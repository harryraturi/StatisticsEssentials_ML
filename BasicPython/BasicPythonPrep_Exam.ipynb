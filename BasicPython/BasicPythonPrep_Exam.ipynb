{
 "cells": [
  {
   "cell_type": "markdown",
   "id": "d4d98648",
   "metadata": {},
   "source": [
    "## Basics of Python for DataScience"
   ]
  },
  {
   "cell_type": "markdown",
   "id": "47786617",
   "metadata": {},
   "source": [
    "### how to print any string in python"
   ]
  },
  {
   "cell_type": "code",
   "execution_count": null,
   "id": "9d472677",
   "metadata": {},
   "outputs": [],
   "source": [
    "print(\"hello world\")"
   ]
  },
  {
   "cell_type": "markdown",
   "id": "6eb1494b",
   "metadata": {},
   "source": [
    "### how to take input in python\n",
    "   - Input always return value in string whether it is integer.\n",
    "   - so before doing any further calculation we need to cast the data type"
   ]
  },
  {
   "cell_type": "code",
   "execution_count": null,
   "id": "816504c6",
   "metadata": {},
   "outputs": [],
   "source": [
    "inputVal = input('Enter your name:') \n",
    "print('my name is : ',inputVal)"
   ]
  },
  {
   "cell_type": "markdown",
   "id": "8bb92921",
   "metadata": {},
   "source": [
    "### How to print any character in multiple times"
   ]
  },
  {
   "cell_type": "code",
   "execution_count": null,
   "id": "88826863",
   "metadata": {},
   "outputs": [],
   "source": [
    "print('#' * 20)"
   ]
  },
  {
   "cell_type": "markdown",
   "id": "815c780e",
   "metadata": {},
   "source": [
    "### Declare a variable in python, It will automatically converts itself according to the value assign to it."
   ]
  },
  {
   "cell_type": "markdown",
   "id": "9c30710f",
   "metadata": {},
   "source": [
    "- There is no need to declare the data type of the variable as done in other programming languages, such as C, C++ and JAVA\n",
    "- The variable name (or identifier) cannot start with a number, i.e., declaring something like 2name = 7 throws an error\n",
    "- Python is case sensitive or in other words, these variables are case sensitive. This means that declaring  name= 2 & Name = 4 would create two different variables."
   ]
  },
  {
   "cell_type": "code",
   "execution_count": null,
   "id": "c60ab327",
   "metadata": {},
   "outputs": [],
   "source": [
    "var1 = 'xyz'\n",
    "print(var1)"
   ]
  },
  {
   "cell_type": "code",
   "execution_count": null,
   "id": "53c36db3",
   "metadata": {},
   "outputs": [],
   "source": [
    "var2 = 3\n",
    "print(var2)"
   ]
  },
  {
   "cell_type": "code",
   "execution_count": null,
   "id": "d3609743",
   "metadata": {},
   "outputs": [],
   "source": [
    "var3 = 3.5\n",
    "print(var3)"
   ]
  },
  {
   "cell_type": "markdown",
   "id": "1c33a72d",
   "metadata": {},
   "source": [
    "#### how to determine type of variable"
   ]
  },
  {
   "cell_type": "code",
   "execution_count": null,
   "id": "491dea99",
   "metadata": {},
   "outputs": [],
   "source": [
    "int_num = 5\n",
    "float_num = 5.6\n",
    "str1 = 'type'\n",
    "boolean = True"
   ]
  },
  {
   "cell_type": "code",
   "execution_count": null,
   "id": "cf034062",
   "metadata": {},
   "outputs": [],
   "source": [
    "print(type(int_num))\n",
    "print(type(float_num))\n",
    "print(type(str1))\n",
    "print(type(boolean))"
   ]
  },
  {
   "cell_type": "markdown",
   "id": "87da1d9b",
   "metadata": {},
   "source": [
    "#### Type-casting"
   ]
  },
  {
   "cell_type": "code",
   "execution_count": null,
   "id": "a3dd8a76",
   "metadata": {},
   "outputs": [],
   "source": [
    "a1 = 1\n",
    "print(bool(a1))"
   ]
  },
  {
   "cell_type": "code",
   "execution_count": null,
   "id": "da681ef1",
   "metadata": {},
   "outputs": [],
   "source": [
    "a = 0\n",
    "print(bool(a))"
   ]
  },
  {
   "cell_type": "code",
   "execution_count": null,
   "id": "dc04b580",
   "metadata": {},
   "outputs": [],
   "source": [
    "print(float(a1))"
   ]
  },
  {
   "cell_type": "code",
   "execution_count": null,
   "id": "c8f9933b",
   "metadata": {},
   "outputs": [],
   "source": [
    "print(str(a1))"
   ]
  },
  {
   "cell_type": "markdown",
   "id": "34167b7d",
   "metadata": {},
   "source": [
    "### Arithmetic operation"
   ]
  },
  {
   "cell_type": "code",
   "execution_count": null,
   "id": "65a45d42",
   "metadata": {},
   "outputs": [],
   "source": [
    "a = 16\n",
    "b = 7"
   ]
  },
  {
   "cell_type": "code",
   "execution_count": null,
   "id": "a8d3bfde",
   "metadata": {},
   "outputs": [],
   "source": [
    "print(\"addition : \",a+b)\n",
    "print(\"subtraction : \",a-b)\n",
    "print(\"multiply : \",a*b)\n",
    "print(\"division : \",a/b)\n",
    "print(\"floor divide : \",a//b)\n",
    "print(\"modulus : \",a%b)\n",
    "print(\"exponential : \",a**b)"
   ]
  },
  {
   "cell_type": "markdown",
   "id": "8deed7d3",
   "metadata": {},
   "source": [
    "### Let us understand Operator precedence using an example.\n",
    "\n",
    "https://docs.python.org/3.7/reference/expressions.html#operator-precedence"
   ]
  },
  {
   "cell_type": "code",
   "execution_count": null,
   "id": "100fc007",
   "metadata": {},
   "outputs": [],
   "source": [
    "a = 4 + (8 ** 2) - 3 ** 2 % 1 \n",
    "print(a)"
   ]
  },
  {
   "cell_type": "markdown",
   "id": "865bd98a",
   "metadata": {},
   "source": [
    "### String Operation\n",
    "\n",
    " - Immuatable, cann't be modified\n",
    " - defined by '' or \"\""
   ]
  },
  {
   "cell_type": "code",
   "execution_count": null,
   "id": "995b4811",
   "metadata": {},
   "outputs": [],
   "source": [
    "str1 = 'abc'\n",
    "str2 = \"pqr\""
   ]
  },
  {
   "cell_type": "markdown",
   "id": "16c2e430",
   "metadata": {},
   "source": [
    "### Escape character and New line"
   ]
  },
  {
   "cell_type": "code",
   "execution_count": null,
   "id": "83a73ab2",
   "metadata": {},
   "outputs": [],
   "source": [
    "print('I don\\'t know')"
   ]
  },
  {
   "cell_type": "code",
   "execution_count": null,
   "id": "5ad88d7e",
   "metadata": {},
   "outputs": [],
   "source": [
    "print('Hi bob \\n \\nhow are you')"
   ]
  },
  {
   "cell_type": "markdown",
   "id": "74ae7388",
   "metadata": {},
   "source": [
    "### String Concatenation"
   ]
  },
  {
   "cell_type": "code",
   "execution_count": null,
   "id": "ed4dd5ef",
   "metadata": {},
   "outputs": [],
   "source": [
    "#Let's try building a system that could ask for flavour, and the type of desert user wants\n",
    "\n",
    "flavour=input(\"What flavour would you like \")\n",
    "dessert_type=input(\"What type of dessert would you like \")\n",
    "print(\"You have ordered\", flavour+\"-\"+dessert_type)"
   ]
  },
  {
   "cell_type": "markdown",
   "id": "ef8154cd",
   "metadata": {},
   "source": [
    "### Indexing\n",
    " - Forward indexing starts with 0\n",
    " - Reverse indexing starts with the last character as -1 in a python string\n",
    " - Strings are immutable which means they can't be changed once created\n",
    " - Strings can be modified by slicing a part of it and concatenating with another"
   ]
  },
  {
   "cell_type": "code",
   "execution_count": null,
   "id": "8595475c",
   "metadata": {},
   "outputs": [],
   "source": [
    "string = \"I have not failed. I've just found 10,000 ways that won't work. - Thomas A. Edison\"\n",
    "print(len(string))"
   ]
  },
  {
   "cell_type": "code",
   "execution_count": null,
   "id": "cb875bd1",
   "metadata": {},
   "outputs": [],
   "source": [
    "string[11]"
   ]
  },
  {
   "cell_type": "code",
   "execution_count": null,
   "id": "c1d5735c",
   "metadata": {},
   "outputs": [],
   "source": [
    "string[-5]"
   ]
  },
  {
   "cell_type": "code",
   "execution_count": null,
   "id": "87f66aee",
   "metadata": {},
   "outputs": [],
   "source": [
    "#because string is immutable we cann't modify it\n",
    "string[2] = 't'"
   ]
  },
  {
   "cell_type": "code",
   "execution_count": null,
   "id": "9b642861",
   "metadata": {},
   "outputs": [],
   "source": [
    "statement = \"I have not failed. I've just found 10,000 ways that won't work. - Thomas A. Edison\"\n",
    "sliced_statement = statement[0:64] # 0 = start index, 64 = length\n",
    "print(sliced_statement)\n",
    "print(len(sliced_statement))"
   ]
  },
  {
   "cell_type": "code",
   "execution_count": null,
   "id": "e002df71",
   "metadata": {},
   "outputs": [],
   "source": [
    "# another ways of slicing from starting index\n",
    "batch = \"5 girls 3 boys in a class\"\n",
    "girls = batch[:8]\n",
    "print(girls)"
   ]
  },
  {
   "cell_type": "code",
   "execution_count": null,
   "id": "456bdbc7",
   "metadata": {},
   "outputs": [],
   "source": [
    "print(batch[8:])"
   ]
  },
  {
   "cell_type": "markdown",
   "id": "eaefe881",
   "metadata": {},
   "source": [
    "### Membership"
   ]
  },
  {
   "cell_type": "code",
   "execution_count": null,
   "id": "6476faf9",
   "metadata": {},
   "outputs": [],
   "source": [
    "# Check whether a word , character or sentence exists in particular string\n",
    "print('Hello' in batch)"
   ]
  },
  {
   "cell_type": "code",
   "execution_count": null,
   "id": "7e8832be",
   "metadata": {},
   "outputs": [],
   "source": [
    "print('boys in' in batch)"
   ]
  },
  {
   "cell_type": "markdown",
   "id": "444b62ae",
   "metadata": {},
   "source": [
    "## Some more String methods\n",
    "\n",
    "https://docs.python.org/3.7/library/stdtypes.html#string-methods"
   ]
  },
  {
   "cell_type": "code",
   "execution_count": null,
   "id": "a8f0f2a9",
   "metadata": {},
   "outputs": [],
   "source": [
    "# upper()\n",
    "small = \"I am upper case\"\n",
    "small.upper()"
   ]
  },
  {
   "cell_type": "code",
   "execution_count": null,
   "id": "84205461",
   "metadata": {},
   "outputs": [],
   "source": [
    "# lower()\n",
    "large = \"I AM LOWER CASE\"\n",
    "print(large.lower())"
   ]
  },
  {
   "cell_type": "code",
   "execution_count": null,
   "id": "5f007819",
   "metadata": {},
   "outputs": [],
   "source": [
    "# rstrip function \n",
    "some_sentence = \"There is a space at the end   \"\n",
    "print(some_sentence)"
   ]
  },
  {
   "cell_type": "code",
   "execution_count": null,
   "id": "2d361d03",
   "metadata": {},
   "outputs": [],
   "source": [
    "print(some_sentence.rstrip())"
   ]
  },
  {
   "cell_type": "code",
   "execution_count": null,
   "id": "eb182120",
   "metadata": {},
   "outputs": [],
   "source": [
    "sentence = \"There is some space at the end   aaa\"\n",
    "print(sentence.rstrip('a').lstrip('T'))"
   ]
  },
  {
   "cell_type": "code",
   "execution_count": null,
   "id": "8977cdf1",
   "metadata": {},
   "outputs": [],
   "source": [
    "# strip() function\n",
    "spaces = \"  trim whitespaces   \"\n",
    "print(spaces)\n",
    "print(spaces.strip())"
   ]
  },
  {
   "cell_type": "code",
   "execution_count": null,
   "id": "93c3a2f4",
   "metadata": {},
   "outputs": [],
   "source": [
    "num_with_chars = '******6666#####'\n",
    "print(num_with_chars.rstrip('#').lstrip('*'))"
   ]
  },
  {
   "cell_type": "markdown",
   "id": "6ccef3d2",
   "metadata": {},
   "source": [
    "## Split() method"
   ]
  },
  {
   "cell_type": "code",
   "execution_count": null,
   "id": "661fc882",
   "metadata": {},
   "outputs": [],
   "source": [
    "str1 = \"This is first string to split\"\n",
    "print(str1.split(' '))"
   ]
  },
  {
   "cell_type": "code",
   "execution_count": null,
   "id": "532ec1a2",
   "metadata": {},
   "outputs": [],
   "source": [
    "# count() method\n",
    "string = 'This is a sample sentence'\n",
    "print(string.count('s'))"
   ]
  },
  {
   "cell_type": "code",
   "execution_count": null,
   "id": "7a738be2",
   "metadata": {},
   "outputs": [],
   "source": [
    "print(string.count('s',9)) # param1= char to search, param2 = starting index from search will start"
   ]
  },
  {
   "cell_type": "code",
   "execution_count": null,
   "id": "9015520e",
   "metadata": {},
   "outputs": [],
   "source": [
    "# String formatting\n",
    "A = 'Data'\n",
    "B = 'Analysis'\n",
    "C = 'Pandas'\n",
    "print(A,B,'using',C)"
   ]
  },
  {
   "cell_type": "code",
   "execution_count": null,
   "id": "5fb0c797",
   "metadata": {},
   "outputs": [],
   "source": [
    "# most preferred way\n",
    "print(\"{0} {1} using {2}\".format(A,B,C))"
   ]
  },
  {
   "cell_type": "markdown",
   "id": "587cd7dc",
   "metadata": {},
   "source": [
    "## Data Structures\n",
    "\n",
    " - tuples\n",
    " - sets\n",
    " - lists\n",
    " - dictionaries\n",
    " \n",
    "### List data structure\n",
    " - Lists are an ordered sequence of mixed data types\n",
    " - Lists are written as comma-seperated elements within square bracket []\n",
    " - Lists are not immutable {mutable in nature} so we can modify data in list"
   ]
  },
  {
   "cell_type": "code",
   "execution_count": null,
   "id": "5c79cc61",
   "metadata": {},
   "outputs": [],
   "source": [
    "list1 = ['Anurag','110',450]\n",
    "list1"
   ]
  },
  {
   "cell_type": "code",
   "execution_count": null,
   "id": "111c314f",
   "metadata": {},
   "outputs": [],
   "source": [
    "# Some more examples\n",
    "li = ['India',23,6,'Patna']\n",
    "li"
   ]
  },
  {
   "cell_type": "code",
   "execution_count": null,
   "id": "b4e17832",
   "metadata": {},
   "outputs": [],
   "source": [
    "# Example of nested list\n",
    "li1 = ['Chemistry','Maths',[1987,1990],4]\n",
    "li1"
   ]
  },
  {
   "cell_type": "markdown",
   "id": "e9a9e0a1",
   "metadata": {},
   "source": [
    "### Indexing in list to access data from list [left or right]"
   ]
  },
  {
   "cell_type": "code",
   "execution_count": null,
   "id": "0af57626",
   "metadata": {},
   "outputs": [],
   "source": [
    "li1[0]"
   ]
  },
  {
   "cell_type": "code",
   "execution_count": null,
   "id": "eea81291",
   "metadata": {},
   "outputs": [],
   "source": [
    "li1[2]"
   ]
  },
  {
   "cell_type": "code",
   "execution_count": null,
   "id": "e4c0d300",
   "metadata": {},
   "outputs": [],
   "source": [
    "# negative indexing or indexing from end\n",
    "li1[-2]"
   ]
  },
  {
   "cell_type": "code",
   "execution_count": null,
   "id": "ad1e9b55",
   "metadata": {},
   "outputs": [],
   "source": [
    "li1[-1]"
   ]
  },
  {
   "cell_type": "code",
   "execution_count": null,
   "id": "75fb8d8a",
   "metadata": {},
   "outputs": [],
   "source": [
    "li1[-2][1]"
   ]
  },
  {
   "cell_type": "markdown",
   "id": "1dffb093",
   "metadata": {},
   "source": [
    "## You can use indexing to access individual elements from a list\n",
    "## You can use slicing to multiple elements.\n",
    "\n",
    "https://docs.python.org/3/tutorial/introduction.html#lists"
   ]
  },
  {
   "cell_type": "code",
   "execution_count": null,
   "id": "28d6b8a2",
   "metadata": {},
   "outputs": [],
   "source": [
    "li1[0:3]  # [starting_index:end_index] return data from [0 to n-1]"
   ]
  },
  {
   "cell_type": "code",
   "execution_count": null,
   "id": "66dd8014",
   "metadata": {},
   "outputs": [],
   "source": [
    "li1[1:3]"
   ]
  },
  {
   "cell_type": "markdown",
   "id": "8d9565e5",
   "metadata": {},
   "source": [
    "## Membership in List"
   ]
  },
  {
   "cell_type": "code",
   "execution_count": null,
   "id": "9616e149",
   "metadata": {},
   "outputs": [],
   "source": [
    "L1 = [1,2,3,4]\n",
    "print(1 in L1)\n",
    "print(30 in L1)"
   ]
  },
  {
   "cell_type": "markdown",
   "id": "a77cb33e",
   "metadata": {},
   "source": [
    "## Concatenation Lists"
   ]
  },
  {
   "cell_type": "code",
   "execution_count": null,
   "id": "33e63b46",
   "metadata": {},
   "outputs": [],
   "source": [
    "new_L = li1 + [5,8]\n",
    "new_L"
   ]
  },
  {
   "cell_type": "code",
   "execution_count": null,
   "id": "bac68601",
   "metadata": {},
   "outputs": [],
   "source": [
    "#Replace \"Maths\" with \"Physics\"\n",
    "li1[1] = \"Physics\"\n",
    "li1"
   ]
  },
  {
   "cell_type": "markdown",
   "id": "79547ae2",
   "metadata": {},
   "source": [
    "### Some of the essential methods available with lists include:\n",
    "\n",
    " - **extend()**: Extend a list by adding elements at the end of the list.\n",
    " - **append()**: Append an object to the end of a list."
   ]
  },
  {
   "cell_type": "code",
   "execution_count": null,
   "id": "5413ec05",
   "metadata": {},
   "outputs": [],
   "source": [
    "# if we want to add new data into the same list then we have method called extend()\n",
    "li1.extend([9,22])\n",
    "li1"
   ]
  },
  {
   "cell_type": "code",
   "execution_count": null,
   "id": "e353a926",
   "metadata": {},
   "outputs": [],
   "source": [
    "# append() : it will append the exact list data into the existing list\n",
    "li1.append([7,2])\n",
    "li1"
   ]
  },
  {
   "cell_type": "code",
   "execution_count": null,
   "id": "583d813a",
   "metadata": {},
   "outputs": [],
   "source": [
    "# del command : delete the element from the list\n",
    "del li1[0]\n",
    "li1"
   ]
  },
  {
   "cell_type": "code",
   "execution_count": null,
   "id": "6678feba",
   "metadata": {},
   "outputs": [],
   "source": [
    "del li1[0:2]"
   ]
  },
  {
   "cell_type": "code",
   "execution_count": null,
   "id": "6003ca99",
   "metadata": {},
   "outputs": [],
   "source": [
    "li1"
   ]
  },
  {
   "cell_type": "code",
   "execution_count": null,
   "id": "a29b561b",
   "metadata": {},
   "outputs": [],
   "source": [
    "L = ['Chemistry', 'Physics', [1987, 1990], 4, 9, 22, [7, 2]]"
   ]
  },
  {
   "cell_type": "markdown",
   "id": "f3808aaa",
   "metadata": {},
   "source": [
    "- `pop(index)`: Remove and return the item at index (default last)\n",
    "- `remove(value)`: Remove the first occurrence of a value in the list"
   ]
  },
  {
   "cell_type": "code",
   "execution_count": null,
   "id": "6dee9c07",
   "metadata": {},
   "outputs": [],
   "source": [
    "L.pop()"
   ]
  },
  {
   "cell_type": "code",
   "execution_count": null,
   "id": "a9a5d45d",
   "metadata": {},
   "outputs": [],
   "source": [
    "# remove\n",
    "L.remove(\"Physics\")\n",
    "L"
   ]
  },
  {
   "cell_type": "markdown",
   "id": "de43f35e",
   "metadata": {},
   "source": [
    "## There are two functions you can use to sort a list:\n",
    "\n",
    " - `sort()`: Sorts the elements of a list in place\n",
    " - `sorted()`: Assign the sorted elements to a new list and the original list is left as is. "
   ]
  },
  {
   "cell_type": "code",
   "execution_count": null,
   "id": "d29ac7c3",
   "metadata": {},
   "outputs": [],
   "source": [
    "l = [32,6,12,2,76]\n",
    "l.sort()\n",
    "l"
   ]
  },
  {
   "cell_type": "code",
   "execution_count": null,
   "id": "4b42705b",
   "metadata": {},
   "outputs": [],
   "source": [
    "l.sort(reverse=True)\n",
    "l"
   ]
  },
  {
   "cell_type": "code",
   "execution_count": null,
   "id": "da1450c0",
   "metadata": {},
   "outputs": [],
   "source": [
    "#Difference between sort() and sorted()\n",
    "\n",
    "A = [\"Orange\",\"Mango\",\"Apple\"]\n",
    "A"
   ]
  },
  {
   "cell_type": "code",
   "execution_count": null,
   "id": "10e17095",
   "metadata": {},
   "outputs": [],
   "source": [
    "B = A.sort()\n",
    "print(A)\n",
    "print(B)"
   ]
  },
  {
   "cell_type": "code",
   "execution_count": null,
   "id": "1afcca3e",
   "metadata": {},
   "outputs": [],
   "source": [
    "A = [\"Orange\",\"Mango\",\"Apple\"]\n",
    "C = sorted(A)\n",
    "print (A)\n",
    "print (C)"
   ]
  },
  {
   "cell_type": "code",
   "execution_count": null,
   "id": "764890fd",
   "metadata": {},
   "outputs": [],
   "source": [
    "word = ['1','2','3','4']\n",
    "word[ : ] = [ ] \n",
    "print(word)"
   ]
  },
  {
   "attachments": {
    "image.png": {
     "image/png": "[encoded data removed]"
    }
   },
   "cell_type": "markdown",
   "id": "b1a97ab1",
   "metadata": {},
   "source": [
    "![image.png](attachment:image.png)"
   ]
  },
  {
   "cell_type": "markdown",
   "id": "8b16dfc6",
   "metadata": {},
   "source": [
    "## Shadow Copy"
   ]
  },
  {
   "cell_type": "code",
   "execution_count": null,
   "id": "0d01e23a",
   "metadata": {},
   "outputs": [],
   "source": [
    "A = [\"Orange\",\"Strawberry\",\"Mango\"]\n",
    "#Refer to same list object into memory\n",
    "B = A\n",
    "print(A, B)"
   ]
  },
  {
   "cell_type": "code",
   "execution_count": null,
   "id": "a99f970d",
   "metadata": {},
   "outputs": [],
   "source": [
    "A[0] = \"Apple\"\n",
    "print (A,B)"
   ]
  },
  {
   "cell_type": "markdown",
   "id": "fec7c027",
   "metadata": {},
   "source": [
    "## Without Shadow Copy"
   ]
  },
  {
   "cell_type": "code",
   "execution_count": null,
   "id": "b386d910",
   "metadata": {},
   "outputs": [],
   "source": [
    "A = [\"Orange\",\"Strawberry\",\"Mango\"]\n",
    "#Created new object\n",
    "B = A[:]\n",
    "print (A,B)"
   ]
  },
  {
   "cell_type": "code",
   "execution_count": null,
   "id": "f289fdb4",
   "metadata": {},
   "outputs": [],
   "source": [
    "A[0] = \"Apple\"\n",
    "print (A,B)"
   ]
  },
  {
   "cell_type": "markdown",
   "id": "2c61d555",
   "metadata": {},
   "source": [
    "Hmm, that works. But what if I would like to add some security and make user id un-changeable or as we call it in programming - immutable, in that case, we'll use a tuple. \n",
    "\n",
    "So in this session, we are going to learn more about another new word or a data type actually which is called \"Tuple\"\n",
    "\n",
    "<h1 style=\"color:Brown\"> Tuples </h1>\n",
    "\n",
    "- Tuples are an ordered sequence of mixed data types.\n",
    "- Tuples are written as comma-separated  elements within parenthesis\n",
    "- Tuples are immutable in nature so we can't modify the elements as security point of view"
   ]
  },
  {
   "cell_type": "code",
   "execution_count": null,
   "id": "1fc770b2",
   "metadata": {},
   "outputs": [],
   "source": [
    "tup = (2, 'abc', 5, 4.6)\n",
    "tup"
   ]
  },
  {
   "cell_type": "markdown",
   "id": "fd4fe696",
   "metadata": {},
   "source": [
    "<h3> Tuples can be defined is various ways </h3>\n",
    "\n",
    "#### A tuple can be defined without using parenthesis "
   ]
  },
  {
   "cell_type": "code",
   "execution_count": null,
   "id": "2f37a612",
   "metadata": {},
   "outputs": [],
   "source": [
    "sample_tup = 1,2,3,4\n",
    "print(sample_tup)"
   ]
  },
  {
   "cell_type": "markdown",
   "id": "e0a52a71",
   "metadata": {},
   "source": [
    "### Single value Tuple"
   ]
  },
  {
   "cell_type": "code",
   "execution_count": null,
   "id": "1ccf70a2",
   "metadata": {},
   "outputs": [],
   "source": [
    "sam_tup = 1,\n",
    "print(sam_tup)"
   ]
  },
  {
   "cell_type": "code",
   "execution_count": null,
   "id": "a760aa7b",
   "metadata": {},
   "outputs": [],
   "source": [
    "samp_tup = (1,)\n",
    "print(samp_tup)"
   ]
  },
  {
   "cell_type": "code",
   "execution_count": null,
   "id": "bd1b6b9b",
   "metadata": {},
   "outputs": [],
   "source": [
    "# Below are not a tuple example\n",
    "sample_tuple1 = 1\n",
    "sample_tuple2 = (1)"
   ]
  },
  {
   "cell_type": "markdown",
   "id": "e0c33eaa",
   "metadata": {},
   "source": [
    "### Indexing and Slicing in Tuple"
   ]
  },
  {
   "cell_type": "code",
   "execution_count": null,
   "id": "101aad24",
   "metadata": {},
   "outputs": [],
   "source": [
    "t = (\"Mumbai\", 84, \"Python\",4.5,3,'Sonu')"
   ]
  },
  {
   "cell_type": "code",
   "execution_count": null,
   "id": "05b1516e",
   "metadata": {},
   "outputs": [],
   "source": [
    "t[0]"
   ]
  },
  {
   "cell_type": "code",
   "execution_count": null,
   "id": "f5ace9f9",
   "metadata": {},
   "outputs": [],
   "source": [
    "t[-2]"
   ]
  },
  {
   "cell_type": "code",
   "execution_count": null,
   "id": "48b70ff3",
   "metadata": {},
   "outputs": [],
   "source": [
    "# Slicing first 3 elements from the tuple\n",
    "t[0:3]"
   ]
  },
  {
   "cell_type": "code",
   "execution_count": null,
   "id": "e096c3f2",
   "metadata": {},
   "outputs": [],
   "source": [
    "# Slicing last 2 elements from t\n",
    "t[-2:]"
   ]
  },
  {
   "cell_type": "code",
   "execution_count": null,
   "id": "50dd52c1",
   "metadata": {},
   "outputs": [],
   "source": [
    "t[-5:-3]"
   ]
  },
  {
   "cell_type": "markdown",
   "id": "af84e5b1",
   "metadata": {},
   "source": [
    "### len function to count elements in the tuple"
   ]
  },
  {
   "cell_type": "code",
   "execution_count": null,
   "id": "7716273a",
   "metadata": {},
   "outputs": [],
   "source": [
    "t = (\"Seattle\", 84, \"Python\", 5, 2, 1)\n",
    "len(t)"
   ]
  },
  {
   "cell_type": "markdown",
   "id": "2ac5745e",
   "metadata": {},
   "source": [
    "### Concatenation of Tuples"
   ]
  },
  {
   "cell_type": "code",
   "execution_count": null,
   "id": "49881b33",
   "metadata": {},
   "outputs": [],
   "source": [
    "tup1 = (\"This\", \"is\", \"Session\", 2)\n",
    "tup2 = (\"on\", \"Tuples\")\n",
    "\n",
    "# Adding contents of tup2 to tup1 and storing in tup3\n",
    "tup3 = tup1 + tup2\n",
    "\n",
    "tup3"
   ]
  },
  {
   "cell_type": "markdown",
   "id": "a61f3553",
   "metadata": {},
   "source": [
    "### sum(), min(), max() for tuples"
   ]
  },
  {
   "cell_type": "code",
   "execution_count": null,
   "id": "9d57cdd4",
   "metadata": {},
   "outputs": [],
   "source": [
    "tup = (1,4,3,7,5,9,34,71,23)"
   ]
  },
  {
   "cell_type": "code",
   "execution_count": null,
   "id": "52d9fbd1",
   "metadata": {},
   "outputs": [],
   "source": [
    "print(sum(tup))"
   ]
  },
  {
   "cell_type": "code",
   "execution_count": null,
   "id": "38011f85",
   "metadata": {},
   "outputs": [],
   "source": [
    "print(min(tup))"
   ]
  },
  {
   "cell_type": "code",
   "execution_count": null,
   "id": "2658d61d",
   "metadata": {},
   "outputs": [],
   "source": [
    "print(max(tup))"
   ]
  },
  {
   "cell_type": "markdown",
   "id": "d90a2abc",
   "metadata": {},
   "source": [
    "### Immutability of tuples"
   ]
  },
  {
   "cell_type": "code",
   "execution_count": null,
   "id": "e75b7d65",
   "metadata": {},
   "outputs": [],
   "source": [
    "t = (\"USA\", 4, 3, \"Disco\", 7.5)\n",
    "\n",
    "t[3] = \"Hard Rock\""
   ]
  },
  {
   "cell_type": "markdown",
   "id": "cbe300c4",
   "metadata": {},
   "source": [
    "### We need to define a new tuple for any modification"
   ]
  },
  {
   "cell_type": "code",
   "execution_count": null,
   "id": "5e8e7cec",
   "metadata": {},
   "outputs": [],
   "source": [
    "new_t = t[0:3] + (\"Hard Rock\",) + t[4:]\n",
    "new_t"
   ]
  },
  {
   "cell_type": "markdown",
   "id": "f3881d14",
   "metadata": {},
   "source": [
    "## Sorting of tuples"
   ]
  },
  {
   "cell_type": "code",
   "execution_count": null,
   "id": "945b8191",
   "metadata": {},
   "outputs": [],
   "source": [
    "t = (2,3,6,4,8,5)\n",
    "sorted(t)"
   ]
  },
  {
   "cell_type": "code",
   "execution_count": null,
   "id": "3d00d808",
   "metadata": {},
   "outputs": [],
   "source": [
    "# cast sorted list in tuple \n",
    "x = sorted(t)\n",
    "y = tuple(x)\n",
    "y"
   ]
  },
  {
   "cell_type": "code",
   "execution_count": null,
   "id": "5fc35504",
   "metadata": {},
   "outputs": [],
   "source": [
    "# Nested Tuples\n",
    "\n",
    "t = (1,5,\"Disco\", (\"Python\", \"Java\"))\n",
    "\n",
    "# Access \"Java\" from the nested tuple\n",
    "t[3][1]"
   ]
  },
  {
   "cell_type": "markdown",
   "id": "f776520f",
   "metadata": {},
   "source": [
    "## Packing and Unpacking in Tuples"
   ]
  },
  {
   "cell_type": "code",
   "execution_count": null,
   "id": "83ea3c21",
   "metadata": {},
   "outputs": [],
   "source": [
    "# packing\n",
    "t = (1,2,3,4)"
   ]
  },
  {
   "cell_type": "code",
   "execution_count": null,
   "id": "f10e07c2",
   "metadata": {},
   "outputs": [],
   "source": [
    "# Unpacking\n",
    "a,b,c,d = t\n",
    "d"
   ]
  },
  {
   "cell_type": "code",
   "execution_count": null,
   "id": "bcf0b531",
   "metadata": {},
   "outputs": [],
   "source": [
    "# but if we do like below\n",
    "a,b,c = t"
   ]
  },
  {
   "cell_type": "markdown",
   "id": "b3c24c90",
   "metadata": {},
   "source": [
    "#### dir() - to view the attributes or methods of an object"
   ]
  },
  {
   "cell_type": "code",
   "execution_count": null,
   "id": "3088d649",
   "metadata": {},
   "outputs": [],
   "source": [
    "t = (1,)\n",
    "print(dir(t))"
   ]
  },
  {
   "cell_type": "markdown",
   "id": "7f388689",
   "metadata": {},
   "source": [
    "#### Now that we know how to store multiple items together let us build another app that could store userid of our customers, which were randomly generated.\n",
    "\n",
    "#### We have the following requirements from the app -\n",
    "\n",
    "1. It shouldn't store duplicate values in the data-set\n",
    "2. Since the userid are randomly generated the order doesn't matter\n",
    "3. We need mutability i.e. if we want to delete a particular value we should be able to do so\n",
    "4. We might frequently want to check whether a user-id is part of the existing data set so it should be able to perform this operation fast\n",
    "\n",
    "#### For this use case, we could either use a unique function and maintain our list, but that would be comparatively time-consuming, so let's look at another data type provided by Python, which would be the best fit here.\n",
    "\n",
    "<h1 style=\"color:Brown\"> Sets </h1>\n",
    "\n",
    "- Sets are a type of collection like lists and tuples, storing mixed data.\n",
    "- Sets are enclosed within curly brackets and elements are written as comma-separated.\n",
    "- Sets are unordered\n",
    "- Sets do not allow duplicates"
   ]
  },
  {
   "cell_type": "code",
   "execution_count": null,
   "id": "50c96a3f",
   "metadata": {},
   "outputs": [],
   "source": [
    "# Remove duplicates from the list\n",
    "l = [1,3,2,4,5,5]\n",
    "\n",
    "set_l = set(l)\n",
    "set_l"
   ]
  },
  {
   "cell_type": "code",
   "execution_count": null,
   "id": "be6c737c",
   "metadata": {},
   "outputs": [],
   "source": [
    "len(set_l)"
   ]
  },
  {
   "cell_type": "code",
   "execution_count": null,
   "id": "8111496a",
   "metadata": {},
   "outputs": [],
   "source": [
    "set_l[0] ## it doesn't allow indexing as it is unordered"
   ]
  },
  {
   "cell_type": "markdown",
   "id": "f1eb6e5c",
   "metadata": {},
   "source": [
    "#### Adding/Removing element into set"
   ]
  },
  {
   "cell_type": "code",
   "execution_count": null,
   "id": "7bb45eda",
   "metadata": {},
   "outputs": [],
   "source": [
    "a = {1,2,3,4,5}\n",
    "a"
   ]
  },
  {
   "cell_type": "code",
   "execution_count": null,
   "id": "5334af8c",
   "metadata": {},
   "outputs": [],
   "source": [
    "a.add('austrailia')\n",
    "a"
   ]
  },
  {
   "cell_type": "code",
   "execution_count": null,
   "id": "a6867435",
   "metadata": {},
   "outputs": [],
   "source": [
    "a.remove('austrailia')\n",
    "a"
   ]
  },
  {
   "cell_type": "markdown",
   "id": "613f3d31",
   "metadata": {},
   "source": [
    "## Set Operations"
   ]
  },
  {
   "cell_type": "code",
   "execution_count": null,
   "id": "939bf328",
   "metadata": {},
   "outputs": [],
   "source": [
    "A = {0, 2, 4, 6, 8}\n",
    "B = {1, 2, 3, 4, 5}"
   ]
  },
  {
   "cell_type": "code",
   "execution_count": null,
   "id": "f92ff56d",
   "metadata": {},
   "outputs": [],
   "source": [
    "print(A, B)"
   ]
  },
  {
   "cell_type": "markdown",
   "id": "40ce6c89",
   "metadata": {},
   "source": [
    "## Uninon\n",
    "\n",
    " - Union represents the total unique elements in both sets."
   ]
  },
  {
   "cell_type": "code",
   "execution_count": null,
   "id": "5b30d89a",
   "metadata": {},
   "outputs": [],
   "source": [
    "print( A | B )\n",
    "print(A.union(B))"
   ]
  },
  {
   "cell_type": "markdown",
   "id": "38f3dba0",
   "metadata": {},
   "source": [
    "## Intersection\n",
    "\n",
    " - Intersection represents the elements common to both sets."
   ]
  },
  {
   "cell_type": "code",
   "execution_count": null,
   "id": "28bc1b13",
   "metadata": {},
   "outputs": [],
   "source": [
    "print( A & B)\n",
    "print(A.intersection(B))"
   ]
  },
  {
   "cell_type": "markdown",
   "id": "b3c6d993",
   "metadata": {},
   "source": [
    "## Difference\n",
    "\n",
    " - Difference(A-B) represents the elements present in A and not in B."
   ]
  },
  {
   "cell_type": "code",
   "execution_count": null,
   "id": "289facf0",
   "metadata": {},
   "outputs": [],
   "source": [
    "print(A - B)\n",
    "print(A.difference(B))"
   ]
  },
  {
   "cell_type": "markdown",
   "id": "5ad4e41d",
   "metadata": {},
   "source": [
    "## Symmetric Difference\n",
    "\n",
    " - Symmetric difference represents the union of the elements A and B minus the intersection of A and B.\n",
    " - (A Union B) - (A intersection B)"
   ]
  },
  {
   "cell_type": "code",
   "execution_count": null,
   "id": "bcc889d1",
   "metadata": {},
   "outputs": [],
   "source": [
    "print(A ^ B)\n",
    "print(A.symmetric_difference(B))"
   ]
  },
  {
   "cell_type": "markdown",
   "id": "9a361a8c",
   "metadata": {},
   "source": [
    "##### In this session, we are going to talk about dictionaries. In Python, we use dictionaries to store key-value pairs.\n",
    "##### Here is an example -\n",
    "##### Let's take the example of a customer as seen earlier.\n",
    "##### Now a customer could have multiple attributes such as \n",
    "1. Name\n",
    "2. Email\n",
    "3. Userid\n",
    "4. Address \n",
    "5. Phone number\n",
    "\n",
    "##### Now each of these attributes would be our key and corresponding we'll have values against each on them\n",
    "\n",
    "##### With a dictionary, we can store a bunch of key-value pairs, let us now see have a look at the 'Dictionary' data type in Python\n",
    "\n",
    "<h1 style=\"color:Brown\"> Dictionaries </h1>\n",
    "\n",
    "- A dictionary stores element as keys and values pairs.\n",
    "- The key is like an index, it's is always unique and immutable. \n",
    "- The values are the objects that contain information.\n",
    "- Values are accessed using their keys.\n",
    "- Each key is followed by a value separated by a colon. \n",
    "- The values can be immutable, mutable, and duplicates. \n",
    "- Each key and value pair is separated by a comma enclosed inside curly brackets."
   ]
  },
  {
   "attachments": {
    "image.png": {
     "image/png": "[encoded data removed]"
    }
   },
   "cell_type": "markdown",
   "id": "cbe797e4",
   "metadata": {},
   "source": [
    "![image.png](attachment:image.png)"
   ]
  },
  {
   "cell_type": "code",
   "execution_count": null,
   "id": "0ee7d432",
   "metadata": {},
   "outputs": [],
   "source": [
    "# Creating a dictionary\n",
    "d = {\"India\" : \"INR\", \"USA\" : \"USD\", \"France\" : \"Euros\"}\n",
    "print(d)\n",
    "\n",
    "# Access value using keys\n",
    "print(d[\"USA\"])"
   ]
  },
  {
   "cell_type": "code",
   "execution_count": null,
   "id": "593dfcba",
   "metadata": {},
   "outputs": [],
   "source": [
    "# Replace the value for a key in a dictionary\n",
    "\n",
    "d[\"USA\"] = \"$\"\n",
    "d"
   ]
  },
  {
   "cell_type": "code",
   "execution_count": null,
   "id": "8b0c8f63",
   "metadata": {},
   "outputs": [],
   "source": [
    "# Insert new key value pair into a dictionary\n",
    "\n",
    "d[\"Japan\"] = \"Yen\"\n",
    "d"
   ]
  },
  {
   "cell_type": "code",
   "execution_count": null,
   "id": "01a96e30",
   "metadata": {},
   "outputs": [],
   "source": [
    "# Deleting a key value pair\n",
    "del d['France']\n",
    "d"
   ]
  },
  {
   "cell_type": "code",
   "execution_count": null,
   "id": "c5793ed1",
   "metadata": {},
   "outputs": [],
   "source": [
    "# Sorting a dictionary\n",
    "sorted(d)"
   ]
  },
  {
   "cell_type": "code",
   "execution_count": null,
   "id": "09fab478",
   "metadata": {},
   "outputs": [],
   "source": [
    "# Extract all the values from dictionaries\n",
    "d.values()"
   ]
  },
  {
   "cell_type": "code",
   "execution_count": null,
   "id": "8efd3bac",
   "metadata": {},
   "outputs": [],
   "source": [
    "# Extract all the keys from dictionaries\n",
    "d.keys()"
   ]
  },
  {
   "cell_type": "code",
   "execution_count": null,
   "id": "2b54ab7e",
   "metadata": {},
   "outputs": [],
   "source": [
    "# update() method\n",
    "d.update({'India':'Rupee'})\n",
    "d"
   ]
  },
  {
   "cell_type": "code",
   "execution_count": null,
   "id": "1cddd9b6",
   "metadata": {},
   "outputs": [],
   "source": [
    "di = dict(a = 4,india = 'delhi', c = 3)\n",
    "di"
   ]
  },
  {
   "cell_type": "code",
   "execution_count": null,
   "id": "8a296012",
   "metadata": {},
   "outputs": [],
   "source": [
    "di1 = dict(Sam=21,Cody=12,Addy=3,Zach=45,Amy=6) \n",
    "di1"
   ]
  },
  {
   "cell_type": "code",
   "execution_count": null,
   "id": "484b88e9",
   "metadata": {},
   "outputs": [],
   "source": [
    "if 21 in di1:\n",
    "    print('Exist')\n",
    "else:\n",
    "    print('Not exist')"
   ]
  },
  {
   "cell_type": "markdown",
   "id": "e1335c90",
   "metadata": {},
   "source": [
    "#### Identify the age of the employee with employee id 159 [ If the employee isn't present return NA]"
   ]
  },
  {
   "cell_type": "code",
   "execution_count": null,
   "id": "9676d531",
   "metadata": {},
   "outputs": [],
   "source": [
    "# employee data with key as id of the employee and values as age of the employee\n",
    "Employee_data ={101: 43, 102: 25, 103: 43, 104: 31, 105: 26, 106: 28, 107: 29, 108: 43, 109: 25, 110: 22, 111: 22, \n",
    "                112: 25, 113: 30, 115: 45, 116: 23, 117: 29, 118: 28, 119: 30, 120: 28, 121: 42, 122: 39, 123: 29, \n",
    "                124: 42, 125: 43, 126: 42, 127: 40, 128: 27, 129: 23, 130: 30, 131: 37, 132: 20, 133: 36, 134: 27, \n",
    "                135: 27, 136: 22, 137: 28, 138: 23, 139: 45, 140: 39, 141: 29, 142: 33, 143: 39, 145: 34, 146: 26, \n",
    "                147: 30, 148: 38, 149: 29, 150: 24, 151: 28, 152: 34, 153: 42, 154: 29, 155: 23, 156: 31, 158: 25, \n",
    "                160: 45, 161: 42, 162: 27, 163: 24, 164: 20, 166: 24, 167: 28, 168: 20, 169: 33, 170: 34, 171: 37, \n",
    "                172: 45, 173: 35, 174: 23, 175: 44, 176: 27, 177: 30, 178: 26, 179: 27}"
   ]
  },
  {
   "cell_type": "code",
   "execution_count": null,
   "id": "98fbdc83",
   "metadata": {},
   "outputs": [],
   "source": [
    "Employee_data.get(159,'NA')"
   ]
  },
  {
   "cell_type": "code",
   "execution_count": null,
   "id": "2224c0bc",
   "metadata": {},
   "outputs": [],
   "source": [
    "len(Employee_data)"
   ]
  },
  {
   "cell_type": "markdown",
   "id": "6bb5fa5f",
   "metadata": {},
   "source": [
    "#### Calculate the mean age of the employees"
   ]
  },
  {
   "cell_type": "code",
   "execution_count": null,
   "id": "2bec4a5c",
   "metadata": {},
   "outputs": [],
   "source": [
    "mean_age = sum(Employee_data.values())/len(Employee_data)\n",
    "mean_age"
   ]
  },
  {
   "cell_type": "markdown",
   "id": "4a417e2e",
   "metadata": {},
   "source": [
    "## Additional link for further reading about data structure\n",
    "\n",
    "https://docs.python.org/3/tutorial/datastructures.html\n",
    "\n",
    "https://runestone.academy/ns/books/published/pythonds/Introduction/GettingStartedwithData.html#built-in-collection-data-types"
   ]
  },
  {
   "cell_type": "markdown",
   "id": "7f64f6e0",
   "metadata": {},
   "source": [
    "# Control Structures and Functions\n",
    "Control structures are the essence of programming; they help computers do what they do best: automate repetitive tasks intelligently. The most common control structures are if-else statements, for and while loops, and list and dictionary comprehensions. This session will cover all these concepts.\n",
    "\n",
    "### If statements\n",
    "\"IF\" statements are imperative in Python and they help us build programs that could make decisions based on a specified condition\n",
    "\n",
    "\n",
    "*   If I am tired, I'll go to bed\n",
    "\n",
    "*   If I am hungry, I'll order food\n",
    "\n",
    "Notice all these applications start with the word 'IF' and that is the first way we are going to control our applications.\n",
    "\n",
    "And before writing down a code to mimic a decision, let us first look at the relational operators that would help us test or define some kind of relation between two entities.\n",
    "\n",
    "Relational operators are used to test equality or inequality of a condition and that condition might change based on your preference.\n",
    "\n",
    "```\n",
    "Example -\n",
    "If its raining == True:\n",
    "  I'll get an umbrella\n",
    "\n",
    "```\n",
    "\n",
    "<h2 style = \"color:Brown\"> Relational Operators</h2>\n",
    "\n",
    "- Compares the values on either side of the operator and returns and boolean value as True or False.\n",
    "- =,!=,<,>\n"
   ]
  },
  {
   "cell_type": "markdown",
   "id": "c95a182a",
   "metadata": {},
   "source": [
    "#### Double equal to operator"
   ]
  },
  {
   "cell_type": "code",
   "execution_count": null,
   "id": "51fc264f",
   "metadata": {},
   "outputs": [],
   "source": [
    "10 == 10"
   ]
  },
  {
   "cell_type": "markdown",
   "id": "c1a34e4f",
   "metadata": {},
   "source": [
    "<h4 style = \"color:Red\">Note</h3>\n",
    "\n",
    "##### ' = ' is an assignment operator; it is used to assign value to a variable on the left.\n",
    "\n",
    "##### '==' is a relational operator; it is used for comparision of equality."
   ]
  },
  {
   "cell_type": "code",
   "execution_count": null,
   "id": "9a4696c6",
   "metadata": {},
   "outputs": [],
   "source": [
    "10 == 5"
   ]
  },
  {
   "cell_type": "markdown",
   "id": "f9767c54",
   "metadata": {},
   "source": [
    "#### Not equal to operator"
   ]
  },
  {
   "cell_type": "code",
   "execution_count": null,
   "id": "2d9d327f",
   "metadata": {},
   "outputs": [],
   "source": [
    "10 != 4"
   ]
  },
  {
   "cell_type": "markdown",
   "id": "a8ebdc39",
   "metadata": {},
   "source": [
    "#### Greater than operator"
   ]
  },
  {
   "cell_type": "code",
   "execution_count": null,
   "id": "be21507b",
   "metadata": {},
   "outputs": [],
   "source": [
    "10 > 7"
   ]
  },
  {
   "cell_type": "code",
   "execution_count": null,
   "id": "c5c760be",
   "metadata": {},
   "outputs": [],
   "source": [
    "10 > 34"
   ]
  },
  {
   "cell_type": "markdown",
   "id": "6de165fc",
   "metadata": {},
   "source": [
    "#### Less than operator"
   ]
  },
  {
   "cell_type": "code",
   "execution_count": null,
   "id": "b3adb1fc",
   "metadata": {},
   "outputs": [],
   "source": [
    "4 < 6"
   ]
  },
  {
   "cell_type": "code",
   "execution_count": null,
   "id": "d885eef6",
   "metadata": {},
   "outputs": [],
   "source": [
    "5 < 3"
   ]
  },
  {
   "cell_type": "markdown",
   "id": "ae7d368e",
   "metadata": {},
   "source": [
    "#### (Greater than equal to/ Less than equal to) operator"
   ]
  },
  {
   "cell_type": "code",
   "execution_count": null,
   "id": "dad89699",
   "metadata": {},
   "outputs": [],
   "source": [
    "10 <= 5"
   ]
  },
  {
   "cell_type": "code",
   "execution_count": null,
   "id": "b9c5dc51",
   "metadata": {},
   "outputs": [],
   "source": [
    "10 >= 5"
   ]
  },
  {
   "cell_type": "markdown",
   "id": "e4f69923",
   "metadata": {},
   "source": [
    "<h2 style = \"color:Brown\">Decision Making</h2>\n",
    "\n",
    "Now let's get back to writing a conditional statement with the 'if' condition\n",
    "\n",
    "To do that we would write it 'if' followed by an expression\n",
    "\n",
    "#### Write a program to check value in variable x is less than 99"
   ]
  },
  {
   "cell_type": "code",
   "execution_count": null,
   "id": "311f848b",
   "metadata": {},
   "outputs": [],
   "source": [
    "x = 45\n",
    "\n",
    "if x < 99:\n",
    "    print(x, 'is less than 99')\n",
    "else:\n",
    "    print(x, 'is greater than 99')"
   ]
  },
  {
   "cell_type": "code",
   "execution_count": null,
   "id": "24d0a6db",
   "metadata": {},
   "outputs": [],
   "source": [
    "x = 342\n",
    "\n",
    "if x < 99:\n",
    "    print(x, \"is less than equal to 99\")\n",
    "elif x == 99:\n",
    "    print(x, \"is equal to 99\")\n",
    "else:\n",
    "    print(x, \" is more than 99\") "
   ]
  },
  {
   "attachments": {
    "image.png": {
     "image/png": "[encoded data removed]"
    }
   },
   "cell_type": "markdown",
   "id": "f0b7c2d3",
   "metadata": {},
   "source": [
    "## Logical Operators\n",
    "We use logical operators in situations where we have multiple conditions\n",
    "\n",
    "####   AND, OR, NOR, XOR\n",
    "\n",
    "Are some of the common and most widely used logical operators\n",
    "You can learn more about them from this link: \n",
    "\n",
    "https://www.geeksforgeeks.org/logic-gates-in-python/\n",
    "\n",
    "![image.png](attachment:image.png)\n",
    "\n",
    "#### Write a program to record the age of visitor and allows him to an exclusive children's day party hosted by Mr Obama only if he or she is above 60 years or below 18 years of age"
   ]
  },
  {
   "cell_type": "code",
   "execution_count": null,
   "id": "41d08582",
   "metadata": {},
   "outputs": [],
   "source": [
    "x = int(input(\"Enter your age : \"))\n",
    "\n",
    "if x >= 60 or x <= 18:\n",
    "    print(\"welcome to the party\")\n",
    "else:\n",
    "    print('Sorry you can\\'t enjoy the party')"
   ]
  },
  {
   "cell_type": "markdown",
   "id": "0e10a2bf",
   "metadata": {},
   "source": [
    "#### Write a program which offers various discounts based on purchase bills"
   ]
  },
  {
   "cell_type": "code",
   "execution_count": null,
   "id": "746c8b78",
   "metadata": {},
   "outputs": [],
   "source": [
    "shoppinng_total = 550\n",
    "\n",
    "if shoppinng_total >= 500:\n",
    "    print(\"You won a discount voucher of flat 1000 on next purchase\")\n",
    "elif shoppinng_total >= 250:\n",
    "    print(\"You won a discount voucher of flat 500 on next purchase\")\n",
    "elif shoppinng_total >= 100:\n",
    "    print(\"You won a discount voucher of flat 100 on next purchase\")    \n",
    "else:\n",
    "    print(\"OOPS!! no discount for you!!!\")"
   ]
  },
  {
   "cell_type": "markdown",
   "id": "8c1456e9",
   "metadata": {},
   "source": [
    "#### Nested if else example"
   ]
  },
  {
   "cell_type": "code",
   "execution_count": null,
   "id": "f374b426",
   "metadata": {},
   "outputs": [],
   "source": [
    "world_cups = {2019 : ['England', 'New Zealand'], 2015:[\"Australia\", \"New Zealand\"], 2011 : [\"India\", \"Sri Lanka\"], 2007: [\"Australia\", \"Sri Lanka\"], 2003: [\"Australia\", \"India\"]}\n",
    "\n",
    "year = int(input(\"Enter year to check New Zealand made it to Finals in 20th century : \"))\n",
    "\n",
    "if year in world_cups :\n",
    "    if \"New Zealand\" in world_cups[year] :\n",
    "        print(\"New Zealand made it to Finals\")\n",
    "    else:\n",
    "        print(\"New Zealand could not make it to Finals\")\n",
    "        \n",
    "else:\n",
    "    print(\"World cup wasn't played in\", year)\n"
   ]
  },
  {
   "cell_type": "markdown",
   "id": "38b4f6ee",
   "metadata": {},
   "source": [
    "<h2 style = \"color:Brown\">Loops and Iterations</h2>\n",
    "\n",
    "Let’s look at a small example where you have a person’s income and expense data across five months in the form of a list, and you want to compute his savings across these five months. You may be thinking of doing this manually by taking the first elements from the two lists and subtracting them, then again taking the second elements and subtracting, and so on. This may look simple, but let’s say it is across 10 or 20 years. Would you do the same? \n",
    "\n",
    "This is where the concept of iteration comes in handy, as you are repeating the same operation multiple times. With this in mind, let’s learn more about it.\n",
    "\n",
    "Let's start with a simple 'While' loop - \n",
    "\n",
    "##### A while loop begins with a keyword 'While' followed by an expression \n",
    "##### So While this condition is satisfied keep running the loop"
   ]
  },
  {
   "cell_type": "code",
   "execution_count": 2,
   "id": "95c40734",
   "metadata": {},
   "outputs": [
    {
     "name": "stdout",
     "output_type": "stream",
     "text": [
      "enter your four digit pin3452\n",
      "Invalid pin! please try one more time2221\n",
      "Invalid pin! please try one more time1234\n",
      "Correct pin entered!\n"
     ]
    }
   ],
   "source": [
    "# Let's create a pin checker which we generally have in our phones or ATMs\n",
    "pin = input('enter your four digit pin')\n",
    "\n",
    "while pin != '1234':\n",
    "    pin = input('Invalid pin! please try one more time')\n",
    "print('Correct pin entered!')"
   ]
  },
  {
   "cell_type": "code",
   "execution_count": 3,
   "id": "7d1e2f76",
   "metadata": {},
   "outputs": [
    {
     "name": "stdout",
     "output_type": "stream",
     "text": [
      "Enter your four digit pin: 1235\n",
      "Invalid input, please try again: 4323\n",
      "Invalid input, please try again: 7657\n"
     ]
    },
    {
     "ename": "SystemExit",
     "evalue": "Too many invalid attempts",
     "output_type": "error",
     "traceback": [
      "An exception has occurred, use %tb to see the full traceback.\n",
      "\u001b[0;31mSystemExit\u001b[0m\u001b[0;31m:\u001b[0m Too many invalid attempts\n"
     ]
    },
    {
     "name": "stderr",
     "output_type": "stream",
     "text": [
      "/Users/anuragbenjwal/opt/anaconda3/lib/python3.9/site-packages/IPython/core/interactiveshell.py:3377: UserWarning: To exit: use 'exit', 'quit', or Ctrl-D.\n",
      "  warn(\"To exit: use 'exit', 'quit', or Ctrl-D.\", stacklevel=1)\n"
     ]
    }
   ],
   "source": [
    "# Now if we want to add a maximum number of tries allowed condition we'll use the if loop\n",
    "\n",
    "import sys    #required for exiting the code and displaying an error\n",
    "\n",
    "pin = input(\"Enter your four digit pin: \")\n",
    "attempt_count = 1\n",
    "while pin != '1234':\n",
    "    if attempt_count >= 3:\n",
    "     sys.exit(\"Too many invalid attempts\")   #error code\n",
    "    pin = input('Invalid input, please try again: ')  \n",
    "    attempt_count += 1\n",
    "print(\"Pin validation successful.\")"
   ]
  },
  {
   "cell_type": "markdown",
   "id": "9792a5b9",
   "metadata": {},
   "source": [
    "#### 'For loop' Control Structure:"
   ]
  },
  {
   "cell_type": "code",
   "execution_count": 4,
   "id": "e2fa2baa",
   "metadata": {},
   "outputs": [
    {
     "name": "stdout",
     "output_type": "stream",
     "text": [
      "1\n",
      "2\n",
      "3\n",
      "5\n",
      "7\n",
      "33\n"
     ]
    }
   ],
   "source": [
    "# iterate over list of integers\n",
    "\n",
    "li = [1,2,3,5,7,33]\n",
    "\n",
    "for i in li:\n",
    "    print(i)"
   ]
  },
  {
   "cell_type": "markdown",
   "id": "959674d5",
   "metadata": {},
   "source": [
    "A few things to note in the syntax include:\n",
    "\n",
    " - **seq**, which represents a sequence; it can be a list, a tuple or a string. To put it in a simple way it can be any iterable object.\n",
    "\n",
    " - The **in** operator, which, as you may recall, is a membership operator that helps to check for the presence of an element in a sequence. "
   ]
  },
  {
   "cell_type": "code",
   "execution_count": 8,
   "id": "b44449bc",
   "metadata": {},
   "outputs": [
    {
     "name": "stdout",
     "output_type": "stream",
     "text": [
      "N\n",
      "e\n",
      "w\n",
      "y\n",
      "o\n",
      "r\n",
      "k\n"
     ]
    }
   ],
   "source": [
    "# iterate over a string\n",
    "\n",
    "string = \"Newyork\"\n",
    "\n",
    "for i in string:\n",
    "    print(i)"
   ]
  },
  {
   "cell_type": "code",
   "execution_count": 7,
   "id": "1ac9446d",
   "metadata": {},
   "outputs": [
    {
     "name": "stdout",
     "output_type": "stream",
     "text": [
      "N:e:w:-:y:o:r:k:"
     ]
    }
   ],
   "source": [
    "# iterate over a string - modify print using end\n",
    "\n",
    "string = \"New-york\"\n",
    "\n",
    "for i in string:\n",
    "    print(i, end=':')  # default value of end param is '\\n'"
   ]
  },
  {
   "cell_type": "code",
   "execution_count": 9,
   "id": "9fc9263c",
   "metadata": {},
   "outputs": [
    {
     "name": "stdout",
     "output_type": "stream",
     "text": [
      "1 - ['Sam', 24]\n",
      "2 - ['Rob', 25]\n",
      "3 - ['Jack', 26]\n",
      "4 - ['Cornor', 24]\n",
      "5 - ['Trump', 27]\n"
     ]
    }
   ],
   "source": [
    "# iterating over a dictionary\n",
    "\n",
    "students_data = {1:['Sam', 24] , 2:['Rob',25], 3:['Jack', 26], 4:['Cornor',24], 5:['Trump',27]}\n",
    "\n",
    "for keys,values in students_data.items():\n",
    "    print(keys,'-',values)"
   ]
  },
  {
   "cell_type": "code",
   "execution_count": 10,
   "id": "df75854f",
   "metadata": {},
   "outputs": [
    {
     "name": "stdout",
     "output_type": "stream",
     "text": [
      "1\n",
      "2\n",
      "3\n",
      "4\n",
      "5\n"
     ]
    }
   ],
   "source": [
    "# Iterating only keys from dictionary\n",
    "for keys in students_data.keys():\n",
    "    print(keys)"
   ]
  },
  {
   "cell_type": "code",
   "execution_count": 11,
   "id": "ecca7b5d",
   "metadata": {},
   "outputs": [
    {
     "name": "stdout",
     "output_type": "stream",
     "text": [
      "['Sam', 24]\n",
      "['Rob', 25]\n",
      "['Jack', 26]\n",
      "['Cornor', 24]\n",
      "['Trump', 27]\n"
     ]
    }
   ],
   "source": [
    "# Iterating only values from dictionary\n",
    "for values in students_data.values():\n",
    "    print(values)"
   ]
  },
  {
   "cell_type": "markdown",
   "id": "4390205f",
   "metadata": {},
   "source": [
    "### Different implementations of range function include:\n",
    "\n",
    " - **range(n)**: This creates a range object that has elements from 0 to n-1 [ both inclusive].\n",
    "\n",
    " - **range(m,n)**: This creates a range object that has elements from m to n-1 [both inclusive].\n",
    "\n",
    " - **range(m,n,t)**: This creates a range object that has elements from m to n-1 with a step count of t. In other words, the range object has elements m, m+t, m+2t…so on. If t is negative, the elements would be decreasing, and that’s exactly what happens in the range (100, 0, -1)."
   ]
  },
  {
   "cell_type": "code",
   "execution_count": 15,
   "id": "97824ff2",
   "metadata": {},
   "outputs": [
    {
     "data": {
      "text/plain": [
       "[1, 2, 3, 4, 5, 6, 7, 8, 9]"
      ]
     },
     "execution_count": 15,
     "metadata": {},
     "output_type": "execute_result"
    }
   ],
   "source": [
    "# Generate range of values.\n",
    "li = list(range(1, 10))\n",
    "li"
   ]
  },
  {
   "cell_type": "code",
   "execution_count": 16,
   "id": "b316ffec",
   "metadata": {},
   "outputs": [
    {
     "name": "stdout",
     "output_type": "stream",
     "text": [
      "1,2,3,4,5,6,7,8,9,"
     ]
    }
   ],
   "source": [
    "# Iterate over range of values\n",
    "\n",
    "for i in range(1, 10):\n",
    "    print(i, end = \",\")"
   ]
  },
  {
   "cell_type": "code",
   "execution_count": 18,
   "id": "c8a8a14d",
   "metadata": {},
   "outputs": [
    {
     "name": "stdout",
     "output_type": "stream",
     "text": [
      "[2, 4, 6, 8, 10, 12, 14, 16, 18, 20, 22, 24, 26, 28, 30, 32, 34, 36, 38, 40, 42, 44, 46, 48]\n",
      "[50, 49, 48, 47, 46, 45, 44, 43, 42, 41, 40, 39, 38, 37, 36, 35, 34, 33, 32, 31, 30, 29, 28, 27, 26, 25, 24, 23, 22, 21, 20, 19, 18, 17, 16, 15, 14, 13, 12, 11, 10, 9, 8, 7, 6, 5, 4, 3, 2, 1]\n"
     ]
    }
   ],
   "source": [
    "# different variations in range\n",
    "\n",
    "print(list(range(2, 50, 2) ))# gives numbers from 1 to 100 with a step count of 2\n",
    "print(list(range(50, 0, -1))) # gives a reversed sequence of numbers from 100 to 1"
   ]
  },
  {
   "cell_type": "markdown",
   "id": "1569f5df",
   "metadata": {},
   "source": [
    "#### Ex. Write a program to print prime numbers between 1 to 20"
   ]
  },
  {
   "cell_type": "code",
   "execution_count": 19,
   "id": "d7ecc7d6",
   "metadata": {},
   "outputs": [
    {
     "name": "stdout",
     "output_type": "stream",
     "text": [
      "1\n",
      "2\n",
      "3\n",
      "5\n",
      "7\n",
      "11\n",
      "13\n",
      "17\n",
      "19\n"
     ]
    }
   ],
   "source": [
    "for n in range(1, 20):\n",
    "    flag = True\n",
    "    for i in range(2, n):\n",
    "        if n % i == 0:\n",
    "            flag = False\n",
    "            break   \n",
    "    if flag :\n",
    "        print(n)"
   ]
  },
  {
   "cell_type": "markdown",
   "id": "29c798ae",
   "metadata": {},
   "source": [
    "<h2 style = \"color:Brown\">Comprehensions</h2>\n",
    "\n",
    "https://cdn.upgrad.com/UpGrad/temp/305307c3-9321-4572-815b-36509336314b/List%2BComprehensions%2Bin%2BPython.pdf"
   ]
  },
  {
   "cell_type": "code",
   "execution_count": 20,
   "id": "b0b6901b",
   "metadata": {},
   "outputs": [
    {
     "data": {
      "text/plain": [
       "[11, 5, 4, 6, 14]"
      ]
     },
     "execution_count": 20,
     "metadata": {},
     "output_type": "execute_result"
    }
   ],
   "source": [
    "l1 = [\"automobiles\", \"Honda\", \"Benz\", \"Suzuki\", \"Morris Garages\" ]\n",
    "\n",
    "l2 = []\n",
    "\n",
    "for i in l1 :\n",
    "    l2.append(len(i))\n",
    "    \n",
    "l2 "
   ]
  },
  {
   "cell_type": "markdown",
   "id": "c55cceb7",
   "metadata": {},
   "source": [
    "### Replacable of `for` loop\n",
    "\n",
    "### Functional approach using List comprehension"
   ]
  },
  {
   "cell_type": "code",
   "execution_count": 22,
   "id": "d91088b0",
   "metadata": {},
   "outputs": [
    {
     "data": {
      "text/plain": [
       "[11, 5, 4, 6, 14]"
      ]
     },
     "execution_count": 22,
     "metadata": {},
     "output_type": "execute_result"
    }
   ],
   "source": [
    "l1 = [\"automobiles\", \"Honda\", \"Benz\", \"Suzuki\", \"Morris Garages\" ]\n",
    "\n",
    "l2 = [len(i) for i in l1]\n",
    "l2"
   ]
  },
  {
   "cell_type": "code",
   "execution_count": 24,
   "id": "b08bda5a",
   "metadata": {},
   "outputs": [
    {
     "data": {
      "text/plain": [
       "[2, 6, 15, 4, 8]"
      ]
     },
     "execution_count": 24,
     "metadata": {},
     "output_type": "execute_result"
    }
   ],
   "source": [
    "L1 = [10, 20, 30, 24, 18]\n",
    "L2 = [8, 14, 15, 20, 10]\n",
    "\n",
    "L3 = [(L1[i] - L2[i]) for i in range(0, len(L1))]\n",
    "L3"
   ]
  },
  {
   "cell_type": "code",
   "execution_count": 27,
   "id": "775dde98",
   "metadata": {},
   "outputs": [
    {
     "name": "stdout",
     "output_type": "stream",
     "text": [
      "automobiles - 11\n",
      "Honda - 5\n",
      "Benz - 4\n",
      "Suzuki - 6\n",
      "Morris Garages - 14\n"
     ]
    }
   ],
   "source": [
    "# Iterating l1 and l2 simultaneaously\n",
    "for i,j in zip(l1,l2):\n",
    "    print(i, '-', j)"
   ]
  },
  {
   "cell_type": "markdown",
   "id": "c3399144",
   "metadata": {},
   "source": [
    "### Dictionary Comprehension"
   ]
  },
  {
   "cell_type": "code",
   "execution_count": 28,
   "id": "68063429",
   "metadata": {},
   "outputs": [
    {
     "data": {
      "text/plain": [
       "{'automobiles': 11, 'Honda': 5, 'Benz': 4, 'Suzuki': 6, 'Morris Garages': 14}"
      ]
     },
     "execution_count": 28,
     "metadata": {},
     "output_type": "execute_result"
    }
   ],
   "source": [
    "d = {i : len(i) for i in l1}\n",
    "d"
   ]
  },
  {
   "cell_type": "code",
   "execution_count": 30,
   "id": "0382dd36",
   "metadata": {},
   "outputs": [
    {
     "data": {
      "text/plain": [
       "{2: 4, 3: 9, 4: 16, 5: 25, 6: 36, 7: 49, 8: 64, 9: 81, 10: 100, 11: 121}"
      ]
     },
     "execution_count": 30,
     "metadata": {},
     "output_type": "execute_result"
    }
   ],
   "source": [
    "# Creating a dictionary consisting of even natural numbers as key and square of each element as value \n",
    "di = {i : i**2 for i in range(2,12)}\n",
    "di"
   ]
  },
  {
   "cell_type": "code",
   "execution_count": 32,
   "id": "594abf0e",
   "metadata": {},
   "outputs": [
    {
     "data": {
      "text/plain": [
       "{2: 4,\n",
       " 4: 16,\n",
       " 6: 36,\n",
       " 8: 64,\n",
       " 10: 100,\n",
       " 12: 144,\n",
       " 14: 196,\n",
       " 16: 256,\n",
       " 18: 324,\n",
       " 20: 400}"
      ]
     },
     "execution_count": 32,
     "metadata": {},
     "output_type": "execute_result"
    }
   ],
   "source": [
    "di1 = {i : i**2 for i in range(2,21) if i%2 == 0}\n",
    "di1"
   ]
  },
  {
   "cell_type": "markdown",
   "id": "98bbbfe6",
   "metadata": {},
   "source": [
    "### Set Comprehension\n",
    "\n",
    "#### Ex . Write a program which takes a word as input from user and returns vowels from the word"
   ]
  },
  {
   "cell_type": "code",
   "execution_count": 33,
   "id": "6b099d43",
   "metadata": {},
   "outputs": [
    {
     "name": "stdout",
     "output_type": "stream",
     "text": [
      "enter the name of useranurag\n"
     ]
    }
   ],
   "source": [
    "word = input(\"enter the name of user\")"
   ]
  },
  {
   "cell_type": "code",
   "execution_count": 34,
   "id": "577dfbdd",
   "metadata": {},
   "outputs": [
    {
     "data": {
      "text/plain": [
       "{'a', 'u'}"
      ]
     },
     "execution_count": 34,
     "metadata": {},
     "output_type": "execute_result"
    }
   ],
   "source": [
    "vowel = {char for char in word if char in 'aeiou'}\n",
    "vowel"
   ]
  },
  {
   "attachments": {
    "image.png": {
     "image/png": "[encoded data removed]"
    }
   },
   "cell_type": "markdown",
   "id": "d8b941df",
   "metadata": {},
   "source": [
    "<h2 style = \"color:Brown\">Functions</h2>\n",
    "\n",
    "![image.png](attachment:image.png)\n",
    "\n",
    "#### Ex. Write a function which takes a value as a parameter and returns its factorial\n",
    "\n",
    "### There are four types of function parameters:\n",
    " - **Required parameters**: \n",
    "     - These parameters are necessary for the function to execute. While calling an inbuilt max() function, you need to pass a list or dictionary or other data structure. This means that a sequence is a required parameter for this function.\n",
    " - **Default arguments**:\n",
    "     - These parameters have a default value and will not throw any error if they are not passed while using the function.\n",
    " - **Keyword parameters**:\n",
    "     - These parameters are expected to be passed using a keyword. In the example of printing a list, you saw that passing end = ',' prints the elements of the list separated by a comma instead of the default newline format. This is a classic example of a keyword argument, the value of which is changed by using the end keyword and specifying the value.\n",
    " - **Variable-length parameters**:\n",
    "     - These enable the function to accept multiple arguments."
   ]
  },
  {
   "cell_type": "code",
   "execution_count": 35,
   "id": "77f85171",
   "metadata": {},
   "outputs": [],
   "source": [
    "def fact(n):\n",
    "    f = 1\n",
    "    for i in range(1, n+1):\n",
    "        f = f*i\n",
    "    return f"
   ]
  },
  {
   "cell_type": "code",
   "execution_count": 36,
   "id": "29cc4957",
   "metadata": {},
   "outputs": [
    {
     "data": {
      "text/plain": [
       "120"
      ]
     },
     "execution_count": 36,
     "metadata": {},
     "output_type": "execute_result"
    }
   ],
   "source": [
    "fact(5)"
   ]
  },
  {
   "cell_type": "code",
   "execution_count": 37,
   "id": "33a35b29",
   "metadata": {},
   "outputs": [
    {
     "ename": "TypeError",
     "evalue": "fact() missing 1 required positional argument: 'n'",
     "output_type": "error",
     "traceback": [
      "\u001b[0;31m---------------------------------------------------------------------------\u001b[0m",
      "\u001b[0;31mTypeError\u001b[0m                                 Traceback (most recent call last)",
      "Input \u001b[0;32mIn [37]\u001b[0m, in \u001b[0;36m<cell line: 1>\u001b[0;34m()\u001b[0m\n\u001b[0;32m----> 1\u001b[0m \u001b[43mfact\u001b[49m\u001b[43m(\u001b[49m\u001b[43m)\u001b[49m\n",
      "\u001b[0;31mTypeError\u001b[0m: fact() missing 1 required positional argument: 'n'"
     ]
    }
   ],
   "source": [
    "fact()"
   ]
  },
  {
   "cell_type": "markdown",
   "id": "d3d13abc",
   "metadata": {},
   "source": [
    "### Function Arguments"
   ]
  },
  {
   "cell_type": "code",
   "execution_count": 38,
   "id": "e8764f31",
   "metadata": {},
   "outputs": [],
   "source": [
    "def func(name, age=59):    # age =51 default parameter\n",
    "    print('name : ',name)\n",
    "    print('age : ',age)"
   ]
  },
  {
   "cell_type": "code",
   "execution_count": 39,
   "id": "4a0f1e40",
   "metadata": {},
   "outputs": [
    {
     "name": "stdout",
     "output_type": "stream",
     "text": [
      "name :  anurag\n",
      "age :  34\n"
     ]
    }
   ],
   "source": [
    "func('anurag',34)"
   ]
  },
  {
   "cell_type": "code",
   "execution_count": 40,
   "id": "abd07f2a",
   "metadata": {},
   "outputs": [
    {
     "name": "stdout",
     "output_type": "stream",
     "text": [
      "name :  Don\n",
      "age :  59\n"
     ]
    }
   ],
   "source": [
    "# if we don't provide age param while calling the function then it will use default value of age\n",
    "func('Don')"
   ]
  },
  {
   "cell_type": "code",
   "execution_count": 41,
   "id": "346fa3b5",
   "metadata": {},
   "outputs": [],
   "source": [
    "def func(name, age = 35, city = \"New York\"):\n",
    "    print(\"name : \", name)\n",
    "    print(\"age : \", age)\n",
    "    print(\"city : \", city)"
   ]
  },
  {
   "cell_type": "code",
   "execution_count": 42,
   "id": "0b55a0a6",
   "metadata": {},
   "outputs": [
    {
     "name": "stdout",
     "output_type": "stream",
     "text": [
      "name :  jane\n",
      "age :  35\n",
      "city :  Seattle\n"
     ]
    }
   ],
   "source": [
    "func('jane',city='Seattle')  # key-word argument"
   ]
  },
  {
   "cell_type": "code",
   "execution_count": 43,
   "id": "d79f2c63",
   "metadata": {},
   "outputs": [
    {
     "name": "stdout",
     "output_type": "stream",
     "text": [
      "name :  jane\n",
      "age :  Seattle\n",
      "city :  New York\n"
     ]
    }
   ],
   "source": [
    "# if we call like below then it will treated the second argument as age\n",
    "func('jane','Seattle')"
   ]
  },
  {
   "cell_type": "markdown",
   "id": "907a6946",
   "metadata": {},
   "source": [
    "### Variable length argument"
   ]
  },
  {
   "cell_type": "code",
   "execution_count": 44,
   "id": "8aaca1ac",
   "metadata": {},
   "outputs": [],
   "source": [
    "def var_func(*args):\n",
    "    print(args)"
   ]
  },
  {
   "cell_type": "code",
   "execution_count": 45,
   "id": "2ef5e52f",
   "metadata": {},
   "outputs": [
    {
     "name": "stdout",
     "output_type": "stream",
     "text": [
      "(1, 'hello', 4.5, True)\n"
     ]
    }
   ],
   "source": [
    "var_func(1,'hello',4.5,True)"
   ]
  },
  {
   "cell_type": "markdown",
   "id": "405eea13",
   "metadata": {},
   "source": [
    "### Lambda function\n",
    "\n",
    "##### Lambda functions are another way of defining functions to execute small functionalities occurring while implementing a complex functionality. These functions can take multiple parameters as input but can only execute a single expression; in other words, they can only perform a single operation.\n",
    "\n",
    "function_name  = lambda `space`  input_parameters :  output_parameters \n"
   ]
  },
  {
   "cell_type": "code",
   "execution_count": 47,
   "id": "739ea35c",
   "metadata": {},
   "outputs": [
    {
     "data": {
      "text/plain": [
       "'odd'"
      ]
     },
     "execution_count": 47,
     "metadata": {},
     "output_type": "execute_result"
    }
   ],
   "source": [
    "# write a lambda function to check number is even or odd\n",
    "\n",
    "f = lambda x: 'even' if x%2 == 0 else 'odd'\n",
    "f(5)"
   ]
  },
  {
   "cell_type": "markdown",
   "id": "b587f33c",
   "metadata": {},
   "source": [
    "<h2 style = \"color:Brown\">map - filter - reduce"
   ]
  },
  {
   "cell_type": "markdown",
   "id": "4eca20b7",
   "metadata": {},
   "source": [
    "#### map(function,iterable object)\n",
    " - The function here can be a lambda function or a function object.\n",
    " - The iterable object can be a string, list, tuple, set or dictionary."
   ]
  },
  {
   "cell_type": "code",
   "execution_count": 48,
   "id": "943c9af0",
   "metadata": {},
   "outputs": [
    {
     "data": {
      "text/plain": [
       "'INDIA'"
      ]
     },
     "execution_count": 48,
     "metadata": {},
     "output_type": "execute_result"
    }
   ],
   "source": [
    "countries = ['India','Japan','Italy','France']\n",
    "\n",
    "f = lambda x : x.upper()\n",
    "\n",
    "f('India')"
   ]
  },
  {
   "cell_type": "code",
   "execution_count": 50,
   "id": "8b75b8ab",
   "metadata": {},
   "outputs": [
    {
     "data": {
      "text/plain": [
       "['INDIA', 'JAPAN', 'ITALY', 'FRANCE']"
      ]
     },
     "execution_count": 50,
     "metadata": {},
     "output_type": "execute_result"
    }
   ],
   "source": [
    "list(map(lambda x: x.upper(), countries))"
   ]
  },
  {
   "cell_type": "code",
   "execution_count": 53,
   "id": "57f8a0ba",
   "metadata": {},
   "outputs": [
    {
     "name": "stdout",
     "output_type": "stream",
     "text": [
      "[9, 16, 25, 36]\n"
     ]
    }
   ],
   "source": [
    "L2 = [3,4,5,6]\n",
    "\n",
    "print(list(map(lambda x: x**2, L2)))"
   ]
  },
  {
   "cell_type": "markdown",
   "id": "39ab0247",
   "metadata": {},
   "source": [
    "#### Defining a function and using it in map"
   ]
  },
  {
   "cell_type": "code",
   "execution_count": 54,
   "id": "7c16777c",
   "metadata": {},
   "outputs": [
    {
     "name": "stdout",
     "output_type": "stream",
     "text": [
      "[25, 16, 36, 49, 81]\n"
     ]
    }
   ],
   "source": [
    "def squareit(n):\n",
    "    return n**2\n",
    "\n",
    "L3 = [5,4,6,7,9]\n",
    "print(list(map(squareit, L3)))"
   ]
  },
  {
   "cell_type": "markdown",
   "id": "d6acf82a",
   "metadata": {},
   "source": [
    "#### `Filter` is similar to map function, only distinguishing feature being that it requires the function to look for a condition and then returns only those elements from the collection that satisfy the condition.\n",
    "\n",
    "#### Filter function to return the multiples of 3 "
   ]
  },
  {
   "cell_type": "code",
   "execution_count": 57,
   "id": "3e514b49",
   "metadata": {},
   "outputs": [
    {
     "name": "stdout",
     "output_type": "stream",
     "text": [
      "[3, 6, 9]\n"
     ]
    }
   ],
   "source": [
    "my_list = [3,4,5,6,7,8,9]\n",
    "\n",
    "divby3 = lambda x : x%3 == 0\n",
    "\n",
    "div = filter(divby3, my_list)\n",
    "print(list(div))"
   ]
  },
  {
   "cell_type": "markdown",
   "id": "2c7a244c",
   "metadata": {},
   "source": [
    "#### Ex. Write a python program to count the students above age 18"
   ]
  },
  {
   "cell_type": "code",
   "execution_count": 59,
   "id": "a3588faa",
   "metadata": {},
   "outputs": [
    {
     "data": {
      "text/plain": [
       "[['Cornor', 19], ['Trump', 20]]"
      ]
     },
     "execution_count": 59,
     "metadata": {},
     "output_type": "execute_result"
    }
   ],
   "source": [
    "students_data = {1:['Sam', 15] , 2:['Rob',18], 3:['Kyle', 16], 4:['Cornor',19], 5:['Trump',20]}\n",
    "\n",
    "stu_abv18 = lambda x : x[1] > 18\n",
    "\n",
    "list(filter(stu_abv18, students_data.values()))"
   ]
  },
  {
   "cell_type": "markdown",
   "id": "4f653edd",
   "metadata": {},
   "source": [
    "**'Reduce'** is an operation that breaks down the entire process into pair-wise operations and uses the result from each operation, with the successive element. The syntax of reduce function is given below. \n",
    "\n",
    "reduce(function,iterable object)\n",
    " - The function object passed to the reduce function decides what expression is passed to the iterable object.\n",
    " - The iterable object can be a string, list, tuple, set or dictionary.\n",
    " - Also, reduce function produces a single output."
   ]
  },
  {
   "cell_type": "code",
   "execution_count": 60,
   "id": "719e98ae",
   "metadata": {},
   "outputs": [],
   "source": [
    "from functools import reduce"
   ]
  },
  {
   "cell_type": "code",
   "execution_count": 61,
   "id": "7d2f9dfa",
   "metadata": {},
   "outputs": [
    {
     "data": {
      "text/plain": [
       "181440"
      ]
     },
     "execution_count": 61,
     "metadata": {},
     "output_type": "execute_result"
    }
   ],
   "source": [
    "list = [3,4,5,6,7,8,9]\n",
    "\n",
    "mul_list = lambda x,y : x*y\n",
    "\n",
    "reduce(mul_list, list)"
   ]
  },
  {
   "cell_type": "code",
   "execution_count": 62,
   "id": "a2b0fd4a",
   "metadata": {},
   "outputs": [
    {
     "data": {
      "text/plain": [
       "42"
      ]
     },
     "execution_count": 62,
     "metadata": {},
     "output_type": "execute_result"
    }
   ],
   "source": [
    "add_list = lambda x,y : x+y\n",
    "\n",
    "reduce(add_list, list)"
   ]
  },
  {
   "cell_type": "markdown",
   "id": "84ac6291",
   "metadata": {},
   "source": [
    "### Some additional reading :\n",
    "\n",
    "Functions-A Byte of Python\n",
    "https://python.swaroopch.com/functions.html\n",
    "\n",
    "Defining functions of your own\n",
    "http://anh.cs.luc.edu/python/hands-on/3.1/handsonHtml/functions.html\n",
    "\n",
    "Comprehensions explained visually\n",
    "https://treyhunner.com/2015/12/python-list-comprehensions-now-in-color/\n",
    "\n",
    "Python 3 idioms test\n",
    "https://python-3-patterns-idioms-test.readthedocs.io/en/latest/Comprehensions.html"
   ]
  },
  {
   "cell_type": "markdown",
   "id": "d57779d6",
   "metadata": {},
   "source": [
    "## Class and Objects\n",
    "\n",
    "<h1 style = \"color : Blue\"> i. Creating Classes and Objects </h1>\n",
    "\n",
    "<h2 style = \"color : Brown\">Defining a class</h2>\n",
    "\n",
    "- length and breadth as attributes\n",
    "- __init__() - constructor of class\n",
    "- self parameter - refers to the newly created instance of the class.  \n",
    "- attributes length and breadth are associated with self-keyword to identify them as instance variables\n",
    "\n",
    "**init()** : it is the method that is instantiated automatically when a particular class is being used; it also determines the number of values that are to be passed."
   ]
  },
  {
   "cell_type": "code",
   "execution_count": 68,
   "id": "a7975c71",
   "metadata": {},
   "outputs": [],
   "source": [
    "class Rectangle:\n",
    "    def __init__(self):\n",
    "        self.length = 5\n",
    "        self.breadth = 10"
   ]
  },
  {
   "cell_type": "markdown",
   "id": "12a1270d",
   "metadata": {},
   "source": [
    "- create the object by calling name of the class followed by parenthesis. \n",
    "- print the values using dot operator"
   ]
  },
  {
   "cell_type": "code",
   "execution_count": 70,
   "id": "e85beab1",
   "metadata": {},
   "outputs": [
    {
     "name": "stdout",
     "output_type": "stream",
     "text": [
      "lenght =  5 \n",
      "breadth =  10\n"
     ]
    }
   ],
   "source": [
    "rect = Rectangle()\n",
    "print('lenght = ',rect.length, '\\nbreadth = ',rect.breadth)"
   ]
  },
  {
   "cell_type": "markdown",
   "id": "9d3944a6",
   "metadata": {},
   "source": [
    "<h2 style = \"color : Brown\">Parametrised Constructor</h2>\n",
    "\n",
    "- parametrised constructor - dynamically assign the attribute values during object creation"
   ]
  },
  {
   "cell_type": "code",
   "execution_count": 72,
   "id": "66688ee5",
   "metadata": {},
   "outputs": [],
   "source": [
    "class Rectangle:\n",
    "    def __init__(self, length, breadth):\n",
    "        self.length = length\n",
    "        self.breadth = breadth"
   ]
  },
  {
   "cell_type": "code",
   "execution_count": 73,
   "id": "5d91b7a9",
   "metadata": {},
   "outputs": [
    {
     "name": "stdout",
     "output_type": "stream",
     "text": [
      "length =  5 \n",
      "breadth =  10\n"
     ]
    }
   ],
   "source": [
    "rect = Rectangle(5,10)\n",
    "print('length = ',rect.length, '\\nbreadth = ',rect.breadth)"
   ]
  },
  {
   "cell_type": "code",
   "execution_count": 74,
   "id": "3bd94cb5",
   "metadata": {},
   "outputs": [],
   "source": [
    "class Employee:\n",
    "    def __init__(self,age,name,eid):\n",
    "        self.age = age\n",
    "        self.name = name\n",
    "        self.eid = eid"
   ]
  },
  {
   "cell_type": "code",
   "execution_count": 75,
   "id": "20563962",
   "metadata": {},
   "outputs": [
    {
     "data": {
      "text/plain": [
       "__main__.Employee"
      ]
     },
     "execution_count": 75,
     "metadata": {},
     "output_type": "execute_result"
    }
   ],
   "source": [
    "emp1 = Employee(30,'suresh',11)\n",
    "type(emp1)"
   ]
  },
  {
   "cell_type": "markdown",
   "id": "95733d57",
   "metadata": {},
   "source": [
    "<h1 style = \"color : Blue\">ii. Class Variable and Instance variables "
   ]
  },
  {
   "cell_type": "code",
   "execution_count": 76,
   "id": "cf9a3b44",
   "metadata": {},
   "outputs": [],
   "source": [
    "class Student:\n",
    "    teacher = 'Mrs. Jones'  # Class Variable\n",
    "    room = '103A'  # Class Variable\n",
    "    def __init__(self,name,age,fav_sub):\n",
    "        self.name = name  # Instance variable\n",
    "        self.age = age    # Instance variable\n",
    "        self.fav_sub = fav_sub  # Instance variable"
   ]
  },
  {
   "cell_type": "code",
   "execution_count": 77,
   "id": "df055192",
   "metadata": {},
   "outputs": [
    {
     "name": "stdout",
     "output_type": "stream",
     "text": [
      "Mrs. Jones Math\n"
     ]
    }
   ],
   "source": [
    "tom = Student('Tom',15,'Math')\n",
    "print(tom.teacher,tom.fav_sub)"
   ]
  },
  {
   "cell_type": "code",
   "execution_count": 78,
   "id": "06f58b1f",
   "metadata": {},
   "outputs": [
    {
     "name": "stdout",
     "output_type": "stream",
     "text": [
      "Mrs. Jones 16\n"
     ]
    }
   ],
   "source": [
    "susan = Student('susan',16,'English')\n",
    "print(susan.teacher,susan.age)"
   ]
  },
  {
   "cell_type": "code",
   "execution_count": 79,
   "id": "38921f31",
   "metadata": {},
   "outputs": [],
   "source": [
    "# If we want to change class variable that is teacher in the example so we can change direct using class Name\n",
    "Student.teacher = 'Mr. David'"
   ]
  },
  {
   "cell_type": "code",
   "execution_count": 80,
   "id": "66deb928",
   "metadata": {},
   "outputs": [
    {
     "name": "stdout",
     "output_type": "stream",
     "text": [
      "Mr. David Math\n"
     ]
    }
   ],
   "source": [
    "# now if we print \n",
    "print(tom.teacher,tom.fav_sub)"
   ]
  },
  {
   "cell_type": "code",
   "execution_count": 81,
   "id": "77570c5d",
   "metadata": {},
   "outputs": [],
   "source": [
    "class Circle :\n",
    "    pi = 3.14\n",
    "    def __init__(self, radius):\n",
    "        self.radius = radius"
   ]
  },
  {
   "cell_type": "code",
   "execution_count": 82,
   "id": "0c8cd40c",
   "metadata": {},
   "outputs": [
    {
     "name": "stdout",
     "output_type": "stream",
     "text": [
      "Radius = 5 \t pi = 3.14\n",
      "Radius = 2 \t pi = 3.14\n"
     ]
    }
   ],
   "source": [
    "circle_1 = Circle(5)\n",
    "print(\"Radius = {} \\t pi = {}\".format(circle_1.radius,circle_1.pi))\n",
    "\n",
    "circle_2 = Circle(2)\n",
    "print(\"Radius = {} \\t pi = {}\".format(circle_2.radius,circle_2.pi))"
   ]
  },
  {
   "cell_type": "code",
   "execution_count": 83,
   "id": "09c9f672",
   "metadata": {},
   "outputs": [
    {
     "name": "stdout",
     "output_type": "stream",
     "text": [
      "Radius = 5 \t pi = 3.1436\n",
      "Radius = 2 \t pi = 3.1436\n"
     ]
    }
   ],
   "source": [
    "Circle.pi = 3.1436\n",
    "\n",
    "circle_1 = Circle(5)\n",
    "print(\"Radius = {} \\t pi = {}\".format(circle_1.radius,circle_1.pi))\n",
    "\n",
    "circle_2 = Circle(2)\n",
    "print(\"Radius = {} \\t pi = {}\".format(circle_2.radius,circle_2.pi))"
   ]
  },
  {
   "cell_type": "markdown",
   "id": "c0c478f7",
   "metadata": {},
   "source": [
    "<h1 style = \"color : Blue\">iii. Adding a method to class</h1>\n",
    "\n",
    "- calculate_area() - retutns the product of attributes length and breadth   \n",
    "- self - identifies its association with the instance"
   ]
  },
  {
   "cell_type": "code",
   "execution_count": 84,
   "id": "cd2e5b18",
   "metadata": {},
   "outputs": [],
   "source": [
    "class Rectangle:\n",
    "    def __init__(self, length, breadth):\n",
    "        self.length = length\n",
    "        self.breadth = breadth\n",
    "    \n",
    "    def calculate_area(self):\n",
    "        return self.length * self.breadth"
   ]
  },
  {
   "cell_type": "code",
   "execution_count": 89,
   "id": "71d5ade5",
   "metadata": {},
   "outputs": [
    {
     "name": "stdout",
     "output_type": "stream",
     "text": [
      "Length = 5 \n",
      "Breadth = 10 \n",
      "Area of Rectangle = 50\n"
     ]
    }
   ],
   "source": [
    "rect = Rectangle(5,10)\n",
    "print(\"Length = {} \\nBreadth = {} \\nArea of Rectangle = {}\".format(rect.length,rect.breadth,rect.calculate_area()))"
   ]
  },
  {
   "attachments": {
    "image.png": {
     "image/png": "[encoded data removed]"
    }
   },
   "cell_type": "markdown",
   "id": "1f51c4bd",
   "metadata": {},
   "source": [
    "<h1 style = \"color : Blue\">Self keyword</h1>\n",
    "\n",
    "The **self** keyword in the init method has a different functionality of linking the elements defined in the class to the values passed as arguments while creating an instance to the class as shown in the image below:\n",
    " \n",
    "![image.png](attachment:image.png)\n",
    "\n",
    "In the execution, you can see that the E1 employee object is created, and on calling the update method, it is returning the updated age and also updating the age of the employee.\n",
    "\n",
    "- The attributes length and breadth are associated with an instance.\n",
    "- Self makes sure that each instance refers to its own copy of attributes"
   ]
  },
  {
   "cell_type": "markdown",
   "id": "f7927ad8",
   "metadata": {},
   "source": [
    "<h1 style = \"color : Blue\">iv. Class Method and Static Method</h1>\n",
    "\n",
    "## Class method \n",
    " - Class methods are bound to class object\n",
    " - like `self` this method uses `cls` keyword\n",
    " - Class methods are used to access and modify class attributes\n",
    " - These methods use @classmethod annotation\n",
    " - Any change made using the class method would apply to all the instances of the class.\n",
    " \n",
    "## Static method\n",
    " - Static methods are same as Class methods bound to class\n",
    " - Static method doesn't require any implicit argument like `self` and `cls`\n",
    " - The main purpose of static method to define or implement certain functionality which has some logical connection with the class\n",
    " - These methods use @staticmethod annotation\n",
    " \n",
    "https://www.youtube.com/watch?v=PNpt7cFjGsM"
   ]
  },
  {
   "cell_type": "code",
   "execution_count": 94,
   "id": "a72b0037",
   "metadata": {},
   "outputs": [],
   "source": [
    "class Circle :\n",
    "    pi = 3.14\n",
    "    def __init__(self, radius):\n",
    "        self.radius = radius\n",
    "        \n",
    "    # Instance Method   \n",
    "    def calculate_area(self):\n",
    "        return Circle.pi * self.radius\n",
    "    \n",
    "    # Class method - I cannot access - radius\n",
    "    @classmethod\n",
    "    def access_pi(cls):\n",
    "        pi = 3.1436\n",
    "        return pi\n",
    "    \n",
    "    # Static Method -  I cannot access - pi and radius\n",
    "    @staticmethod\n",
    "    def circle_static_method():\n",
    "        print(\"This is circle's static method\")"
   ]
  },
  {
   "cell_type": "code",
   "execution_count": 92,
   "id": "afc0fe0a",
   "metadata": {},
   "outputs": [
    {
     "name": "stdout",
     "output_type": "stream",
     "text": [
      "12.56\n"
     ]
    }
   ],
   "source": [
    "ci = Circle(4)\n",
    "\n",
    "# calling methods\n",
    "print(ci.calculate_area())"
   ]
  },
  {
   "cell_type": "code",
   "execution_count": 93,
   "id": "3b3253c1",
   "metadata": {},
   "outputs": [
    {
     "name": "stdout",
     "output_type": "stream",
     "text": [
      "3.1436\n"
     ]
    }
   ],
   "source": [
    "print(Circle.access_pi())"
   ]
  },
  {
   "cell_type": "code",
   "execution_count": 96,
   "id": "4507874d",
   "metadata": {},
   "outputs": [
    {
     "name": "stdout",
     "output_type": "stream",
     "text": [
      "This is circle's static method\n"
     ]
    }
   ],
   "source": [
    "Circle.circle_static_method()"
   ]
  },
  {
   "cell_type": "markdown",
   "id": "4512c607",
   "metadata": {},
   "source": [
    "<h1 style = \"color : Blue\">v. Inheritance and Overriding</h1>\n",
    "\n",
    "https://www.python-course.eu/python3_inheritance.php"
   ]
  },
  {
   "cell_type": "code",
   "execution_count": 105,
   "id": "6799e471",
   "metadata": {},
   "outputs": [],
   "source": [
    "class Shape:\n",
    "    def set_color(self, color):\n",
    "        self.color = color\n",
    "        \n",
    "    def calculate_area(self):\n",
    "        pass\n",
    "        \n",
    "    def color_the_shape(self):\n",
    "        color_price = {\"red\" : 10, \"blue\" : 15, \"green\" : 5}\n",
    "        return self.calculate_area() * color_price[self.color]"
   ]
  },
  {
   "cell_type": "code",
   "execution_count": 108,
   "id": "a8114f18",
   "metadata": {},
   "outputs": [],
   "source": [
    "class Circle(Shape):\n",
    "    pi = 3.14\n",
    "    \n",
    "    def __init__(self,radius):\n",
    "        self.radius = radius\n",
    "        \n",
    "    # overriding\n",
    "    def calculate_area(self):\n",
    "        return Circle.pi * (self.radius ** 2)"
   ]
  },
  {
   "cell_type": "code",
   "execution_count": 109,
   "id": "bac13800",
   "metadata": {},
   "outputs": [],
   "source": [
    "cir1 = Circle(6)"
   ]
  },
  {
   "cell_type": "code",
   "execution_count": 110,
   "id": "07704a00",
   "metadata": {},
   "outputs": [],
   "source": [
    "cir1.set_color('red')"
   ]
  },
  {
   "cell_type": "code",
   "execution_count": 111,
   "id": "125043b8",
   "metadata": {},
   "outputs": [
    {
     "name": "stdout",
     "output_type": "stream",
     "text": [
      "3.14 6 red\n"
     ]
    }
   ],
   "source": [
    "print(cir1.pi, cir1.radius, cir1.color)"
   ]
  },
  {
   "cell_type": "code",
   "execution_count": 112,
   "id": "d62f82b3",
   "metadata": {},
   "outputs": [
    {
     "data": {
      "text/plain": [
       "113.04"
      ]
     },
     "execution_count": 112,
     "metadata": {},
     "output_type": "execute_result"
    }
   ],
   "source": [
    "cir1.calculate_area()"
   ]
  },
  {
   "cell_type": "code",
   "execution_count": 113,
   "id": "c754b70a",
   "metadata": {},
   "outputs": [
    {
     "data": {
      "text/plain": [
       "1130.4"
      ]
     },
     "execution_count": 113,
     "metadata": {},
     "output_type": "execute_result"
    }
   ],
   "source": [
    "cir1.color_the_shape()"
   ]
  },
  {
   "cell_type": "code",
   "execution_count": 128,
   "id": "1e35c400",
   "metadata": {},
   "outputs": [],
   "source": [
    "class Rectangle(Shape):\n",
    "    def __init__(self,length,breadth):\n",
    "        self.length = length\n",
    "        self.breadth = breadth\n",
    "        \n",
    "    # overriding\n",
    "    def calculate_area(self):\n",
    "        return self.length * self.breadth\n",
    "    \n",
    "    # Overriding python default method\n",
    "    def __str__(self):\n",
    "        return \"area of Rectangle =\"  + str(self.calculate_area())"
   ]
  },
  {
   "cell_type": "code",
   "execution_count": 117,
   "id": "da00b834",
   "metadata": {},
   "outputs": [],
   "source": [
    "rect = Rectangle(5,10)"
   ]
  },
  {
   "cell_type": "code",
   "execution_count": 118,
   "id": "da7cfe63",
   "metadata": {},
   "outputs": [],
   "source": [
    "rect.set_color('blue')"
   ]
  },
  {
   "cell_type": "code",
   "execution_count": 119,
   "id": "27e3c62b",
   "metadata": {},
   "outputs": [
    {
     "name": "stdout",
     "output_type": "stream",
     "text": [
      "5 10 blue\n"
     ]
    }
   ],
   "source": [
    "print(rect.length, rect.breadth, rect.color)"
   ]
  },
  {
   "cell_type": "code",
   "execution_count": 120,
   "id": "53249a5e",
   "metadata": {},
   "outputs": [
    {
     "data": {
      "text/plain": [
       "50"
      ]
     },
     "execution_count": 120,
     "metadata": {},
     "output_type": "execute_result"
    }
   ],
   "source": [
    "rect.calculate_area()"
   ]
  },
  {
   "cell_type": "code",
   "execution_count": 121,
   "id": "8d624a1a",
   "metadata": {},
   "outputs": [
    {
     "data": {
      "text/plain": [
       "750"
      ]
     },
     "execution_count": 121,
     "metadata": {},
     "output_type": "execute_result"
    }
   ],
   "source": [
    "rect.color_the_shape()"
   ]
  },
  {
   "cell_type": "code",
   "execution_count": 130,
   "id": "1b09a5ce",
   "metadata": {},
   "outputs": [],
   "source": [
    "#print(rect)  Need to check why it is not working"
   ]
  },
  {
   "cell_type": "code",
   "execution_count": null,
   "id": "de76bbc1",
   "metadata": {},
   "outputs": [],
   "source": []
  }
 ],
 "metadata": {
  "kernelspec": {
   "display_name": "Python 3 (ipykernel)",
   "language": "python",
   "name": "python3"
  },
  "language_info": {
   "codemirror_mode": {
    "name": "ipython",
    "version": 3
   },
   "file_extension": ".py",
   "mimetype": "text/x-python",
   "name": "python",
   "nbconvert_exporter": "python",
   "pygments_lexer": "ipython3",
   "version": "3.9.12"
  }
 },
 "nbformat": 4,
 "nbformat_minor": 5
}
